{
 "cells": [
  {
   "cell_type": "markdown",
   "metadata": {},
   "source": [
    "# Tweet Stream & Extract"
   ]
  },
  {
   "cell_type": "markdown",
   "metadata": {},
   "source": [
    "## Package Imports"
   ]
  },
  {
   "cell_type": "code",
   "execution_count": 1,
   "metadata": {
    "ExecuteTime": {
     "end_time": "2018-03-07T18:34:24.176124Z",
     "start_time": "2018-03-07T18:34:23.980441Z"
    }
   },
   "outputs": [],
   "source": [
    "import requests\n",
    "from requests_oauthlib import OAuth1\n",
    "\n",
    "import cnfg\n",
    "import tweepy\n",
    "from pymongo import MongoClient\n",
    "\n",
    "import json\n",
    "from bson import SON"
   ]
  },
  {
   "cell_type": "markdown",
   "metadata": {},
   "source": [
    "## Mongo Connection"
   ]
  },
  {
   "cell_type": "code",
   "execution_count": 2,
   "metadata": {
    "ExecuteTime": {
     "end_time": "2018-03-07T18:34:25.236770Z",
     "start_time": "2018-03-07T18:34:25.232430Z"
    }
   },
   "outputs": [],
   "source": [
    "client = MongoClient(port=27017)\n",
    "db = client.crypto\n",
    "tweets_orig = db.tweets_v3"
   ]
  },
  {
   "cell_type": "markdown",
   "metadata": {
    "heading_collapsed": true
   },
   "source": [
    "## Tweet Stream to Mongo"
   ]
  },
  {
   "cell_type": "code",
   "execution_count": 4,
   "metadata": {
    "ExecuteTime": {
     "end_time": "2018-03-06T07:27:35.950017Z",
     "start_time": "2018-03-06T07:27:35.923952Z"
    },
    "hidden": true
   },
   "outputs": [
    {
     "name": "stdout",
     "output_type": "stream",
     "text": [
      "['#cryptocurrency', '#cryptocurrencies', '#blockchain', '#crypto', '$BTC', '$ETH', '$XRP', '$BCH', '$LTC', '$NEO', '$ADA', '$XLM', '$EOS', '$IOTA', '$MIOTA', '$DASH', '$XMR', '$ETC', '$XEM', '$TRX', '$VEN', '$USDT', '$QTUM', '$LSK', '$NANO', '$OMG', '$BTG', '$ICX', '$ZEC', '$BNB', '$DGD', '$BCN', '$STEEM', '$XVG', '$PPT', '$STRAT', '$DOGE', '$SC', '$RHOC', '$MKR', '$SNT', '$BTS', '$WTC', '$DCR', '$ZRX', '$KCS', '$NAS', '$AION', '$POWR', '$REQ', '#BTC', '#ETH', '#XRP', '#BCH', '#LTC', '#NEO', '#ADA', '#XLM', '#EOS', '#IOTA', '#MIOTA', '#DASH', '#XMR', '#ETC', '#XEM', '#TRX', '#VEN', '#USDT', '#QTUM', '#LSK', '#NANO', '#OMG', '#BTG', '#ICX', '#ZEC', '#BNB', '#DGD', '#BCN', '#STEEM', '#XVG', '#PPT', '#STRAT', '#DOGE', '#SC', '#RHOC', '#MKR', '#SNT', '#BTS', '#WTC', '#DCR', '#ZRX', '#KCS', '#NAS', '#AION', '#POWR', '#REQ', '#Bitcoin', '#Ethereum', '#Litecoin', '#Cardano', '#Monero', '#Vechain', '#OmiseGo', '#Stratis', '#Dogecoin', '#SiaCoin', '#RChain', '#Waltonchain']\n"
     ]
    }
   ],
   "source": [
    "#twitter_crypto.py\n",
    "'''\n",
    "config = cnfg.load(\".twitter_config\")\n",
    "\n",
    "auth = tweepy.OAuthHandler(config[\"consumer_key\"],\n",
    "                           config[\"consumer_secret\"])\n",
    "auth.set_access_token(config[\"access_token\"],\n",
    "                      config[\"access_token_secret\"])\n",
    "\n",
    "api=tweepy.API(auth)\n",
    "\n",
    "client = MongoClient(port=27017)\n",
    "db = client.crypto\n",
    "livetweets = db.tweets_v3\n",
    "\n",
    "class StreamListener(tweepy.StreamListener):\n",
    "    errors = 0\n",
    "\n",
    "    def on_status(self, status):\n",
    "        \n",
    "        # skip non english tweets\n",
    "        if status.lang != \"en\": \n",
    "            return\n",
    "    \n",
    "        # store tweet and creation date\n",
    "        #data = {}\n",
    "        #data['tweet'] = status.text\n",
    "        #data['datetime'] = status.created_at\n",
    "        # insert into db\n",
    "        try:\n",
    "            livetweets.insert_one(status._json)\n",
    "        except Exception as e:\n",
    "            print(\"exception\",e)\n",
    "            pass\n",
    "    \n",
    "    def on_error(self, status_code):\n",
    "        if status_code == 420:\n",
    "            if(errors >1):\n",
    "                return false\n",
    "            time.sleep(60)\n",
    "        print(\"Error:\",status_code)\n",
    "        return true\n",
    "\n",
    "general = [\"cryptocurrency\",\"cryptocurrencies\",\"blockchain\",\"crypto\"]            \n",
    "coin_tickers = [\"BTC\",\"ETH\",\"XRP\",\"BCH\",\"LTC\",\"NEO\",\"ADA\",\"XLM\",\"EOS\",\"IOTA\",\"MIOTA\",\n",
    "           \"DASH\",\"XMR\",\"ETC\",\"XEM\",\"TRX\",\"VEN\",\"USDT\",\"QTUM\",\"LSK\",\"NANO\",\n",
    "           \"OMG\",\"BTG\",\"ICX\",\"ZEC\",\"BNB\",\"DGD\",\"BCN\",\"STEEM\",\"XVG\",\"PPT\",\n",
    "           \"STRAT\",\"DOGE\",\"SC\",\"RHOC\",\"MKR\",\"SNT\",\"BTS\",\"WTC\",\"DCR\",\"ZRX\",\n",
    "           \"KCS\",\"NAS\",\"AION\",\"POWR\",\"REQ\"\n",
    "          ]\n",
    "coin_names = [\"Bitcoin\",\"Ethereum\",\"Litecoin\",\"Cardano\",\"Monero\",\"Vechain\",\"OmiseGo\",\n",
    "              \"Stratis\",\"Dogecoin\",\"SiaCoin\",\"RChain\",\"Waltonchain\"\n",
    "             ]\n",
    "words = ([\"#\" + g for g in general] \n",
    "         + [\"$\" + t for t in coin_tickers]\n",
    "         + [\"#\" + t for t in coin_tickers]\n",
    "         + [\"#\" + n for n in coin_names]\n",
    "        )\n",
    "\n",
    "\n",
    "stream_listener = StreamListener()\n",
    "stream = tweepy.Stream(auth=api.auth, listener=stream_listener, tweet_mode='extended')\n",
    "stream.filter(track=words,async = True)\n",
    "'''\n",
    "\n",
    "general = [\"cryptocurrency\",\"cryptocurrencies\",\"blockchain\",\"crypto\"]            \n",
    "coin_tickers = [\"BTC\",\"ETH\",\"XRP\",\"BCH\",\"LTC\",\"NEO\",\"ADA\",\"XLM\",\"EOS\",\"IOTA\",\"MIOTA\",\n",
    "           \"DASH\",\"XMR\",\"ETC\",\"XEM\",\"TRX\",\"VEN\",\"USDT\",\"QTUM\",\"LSK\",\"NANO\",\n",
    "           \"OMG\",\"BTG\",\"ICX\",\"ZEC\",\"BNB\",\"DGD\",\"BCN\",\"STEEM\",\"XVG\",\"PPT\",\n",
    "           \"STRAT\",\"DOGE\",\"SC\",\"RHOC\",\"MKR\",\"SNT\",\"BTS\",\"WTC\",\"DCR\",\"ZRX\",\n",
    "           \"KCS\",\"NAS\",\"AION\",\"POWR\",\"REQ\"\n",
    "          ]\n",
    "coin_names = [\"Bitcoin\",\"Ethereum\",\"Litecoin\",\"Cardano\",\"Monero\",\"Vechain\",\"OmiseGo\",\n",
    "              \"Stratis\",\"Dogecoin\",\"SiaCoin\",\"RChain\",\"Waltonchain\"]\n",
    "\n",
    "words = ([\"#\" + g for g in general] \n",
    "         + [\"$\" + t for t in coin_tickers]\n",
    "         + [\"#\" + t for t in coin_tickers]\n",
    "         + [\"#\" + n for n in coin_names]\n",
    "        )              \n",
    "\n",
    "print(words)"
   ]
  },
  {
   "cell_type": "markdown",
   "metadata": {},
   "source": [
    "## Mongo Tweets Analysis"
   ]
  },
  {
   "cell_type": "markdown",
   "metadata": {},
   "source": [
    "### Last Tweet"
   ]
  },
  {
   "cell_type": "code",
   "execution_count": 30,
   "metadata": {
    "ExecuteTime": {
     "end_time": "2018-02-28T03:29:05.520981Z",
     "start_time": "2018-02-28T03:29:04.697433Z"
    }
   },
   "outputs": [
    {
     "name": "stdout",
     "output_type": "stream",
     "text": [
      "968689482877763585\n"
     ]
    },
    {
     "data": {
      "text/plain": [
       "{'_id': ObjectId('5a9622001b9d8f0bf48105fa'),\n",
       " 'contributors': None,\n",
       " 'coordinates': None,\n",
       " 'created_at': 'Wed Feb 28 03:29:04 +0000 2018',\n",
       " 'entities': {'hashtags': [],\n",
       "  'symbols': [],\n",
       "  'urls': [],\n",
       "  'user_mentions': [{'id': 736235995012665344,\n",
       "    'id_str': '736235995012665344',\n",
       "    'indices': [3, 15],\n",
       "    'name': 'CoinFlip Bitcoin ATM',\n",
       "    'screen_name': 'CoinFlipATM'}]},\n",
       " 'favorite_count': 0,\n",
       " 'favorited': False,\n",
       " 'filter_level': 'low',\n",
       " 'geo': None,\n",
       " 'id': 968689482877763585,\n",
       " 'id_str': '968689482877763585',\n",
       " 'in_reply_to_screen_name': None,\n",
       " 'in_reply_to_status_id': None,\n",
       " 'in_reply_to_status_id_str': None,\n",
       " 'in_reply_to_user_id': None,\n",
       " 'in_reply_to_user_id_str': None,\n",
       " 'is_quote_status': False,\n",
       " 'lang': 'en',\n",
       " 'place': None,\n",
       " 'quote_count': 0,\n",
       " 'reply_count': 0,\n",
       " 'retweet_count': 0,\n",
       " 'retweeted': False,\n",
       " 'retweeted_status': {'contributors': None,\n",
       "  'coordinates': None,\n",
       "  'created_at': 'Mon Feb 26 19:29:35 +0000 2018',\n",
       "  'display_text_range': [0, 140],\n",
       "  'entities': {'hashtags': [],\n",
       "   'symbols': [],\n",
       "   'urls': [{'display_url': 'twitter.com/i/web/status/9…',\n",
       "     'expanded_url': 'https://twitter.com/i/web/status/968206430024105985',\n",
       "     'indices': [115, 138],\n",
       "     'url': 'https://t.co/Pl0J5Zfh2x'}],\n",
       "   'user_mentions': []},\n",
       "  'extended_tweet': {'display_text_range': [0, 201],\n",
       "   'entities': {'hashtags': [{'indices': [115, 123], 'text': 'bitcoin'},\n",
       "     {'indices': [124, 128], 'text': 'btc'},\n",
       "     {'indices': [129, 135], 'text': 'ether'},\n",
       "     {'indices': [136, 145], 'text': 'ethereum'},\n",
       "     {'indices': [146, 150], 'text': 'ltc'},\n",
       "     {'indices': [151, 160], 'text': 'litecoin'},\n",
       "     {'indices': [161, 172], 'text': 'bitcoinatm'},\n",
       "     {'indices': [173, 188], 'text': 'cryptocurrency'},\n",
       "     {'indices': [189, 201], 'text': 'millionaire'}],\n",
       "    'media': [{'display_url': 'pic.twitter.com/9jcSZAgTOf',\n",
       "      'expanded_url': 'https://twitter.com/CoinFlipATM/status/968206430024105985/photo/1',\n",
       "      'id': 968206427142672391,\n",
       "      'id_str': '968206427142672391',\n",
       "      'indices': [202, 225],\n",
       "      'media_url': 'http://pbs.twimg.com/media/DW_CnZ8W0AcFBt2.jpg',\n",
       "      'media_url_https': 'https://pbs.twimg.com/media/DW_CnZ8W0AcFBt2.jpg',\n",
       "      'sizes': {'large': {'h': 800, 'resize': 'fit', 'w': 1240},\n",
       "       'medium': {'h': 774, 'resize': 'fit', 'w': 1200},\n",
       "       'small': {'h': 439, 'resize': 'fit', 'w': 680},\n",
       "       'thumb': {'h': 150, 'resize': 'crop', 'w': 150}},\n",
       "      'type': 'photo',\n",
       "      'url': 'https://t.co/9jcSZAgTOf'}],\n",
       "    'symbols': [],\n",
       "    'urls': [],\n",
       "    'user_mentions': []},\n",
       "   'extended_entities': {'media': [{'display_url': 'pic.twitter.com/9jcSZAgTOf',\n",
       "      'expanded_url': 'https://twitter.com/CoinFlipATM/status/968206430024105985/photo/1',\n",
       "      'id': 968206427142672391,\n",
       "      'id_str': '968206427142672391',\n",
       "      'indices': [202, 225],\n",
       "      'media_url': 'http://pbs.twimg.com/media/DW_CnZ8W0AcFBt2.jpg',\n",
       "      'media_url_https': 'https://pbs.twimg.com/media/DW_CnZ8W0AcFBt2.jpg',\n",
       "      'sizes': {'large': {'h': 800, 'resize': 'fit', 'w': 1240},\n",
       "       'medium': {'h': 774, 'resize': 'fit', 'w': 1200},\n",
       "       'small': {'h': 439, 'resize': 'fit', 'w': 680},\n",
       "       'thumb': {'h': 150, 'resize': 'crop', 'w': 150}},\n",
       "      'type': 'photo',\n",
       "      'url': 'https://t.co/9jcSZAgTOf'}]},\n",
       "   'full_text': 'CoinFlip offers one of the lowest rates in the nation. 24 hour customer service and over 40 locations nationwide.\\n\\n#bitcoin #btc #ether #ethereum #ltc #litecoin #bitcoinatm #cryptocurrency #millionaire https://t.co/9jcSZAgTOf'},\n",
       "  'favorite_count': 2,\n",
       "  'favorited': False,\n",
       "  'filter_level': 'low',\n",
       "  'geo': None,\n",
       "  'id': 968206430024105985,\n",
       "  'id_str': '968206430024105985',\n",
       "  'in_reply_to_screen_name': None,\n",
       "  'in_reply_to_status_id': None,\n",
       "  'in_reply_to_status_id_str': None,\n",
       "  'in_reply_to_user_id': None,\n",
       "  'in_reply_to_user_id_str': None,\n",
       "  'is_quote_status': False,\n",
       "  'lang': 'en',\n",
       "  'place': None,\n",
       "  'possibly_sensitive': False,\n",
       "  'quote_count': 0,\n",
       "  'reply_count': 0,\n",
       "  'retweet_count': 1,\n",
       "  'retweeted': False,\n",
       "  'source': '<a href=\"http://www.hootsuite.com\" rel=\"nofollow\">Hootsuite</a>',\n",
       "  'text': 'CoinFlip offers one of the lowest rates in the nation. 24 hour customer service and over 40 locations nationwide.… https://t.co/Pl0J5Zfh2x',\n",
       "  'truncated': True,\n",
       "  'user': {'contributors_enabled': False,\n",
       "   'created_at': 'Fri May 27 16:41:54 +0000 2016',\n",
       "   'default_profile': False,\n",
       "   'default_profile_image': False,\n",
       "   'description': \"The nation's premier cryptocurrency ATMs. With the best rates & service in town, why go anywhere else? BTC, ETH, LTC, with more on the way!\",\n",
       "   'favourites_count': 1435,\n",
       "   'follow_request_sent': None,\n",
       "   'followers_count': 387,\n",
       "   'following': None,\n",
       "   'friends_count': 194,\n",
       "   'geo_enabled': True,\n",
       "   'id': 736235995012665344,\n",
       "   'id_str': '736235995012665344',\n",
       "   'is_translator': False,\n",
       "   'lang': 'en',\n",
       "   'listed_count': 14,\n",
       "   'location': 'Chicago, IL',\n",
       "   'name': 'CoinFlip Bitcoin ATM',\n",
       "   'notifications': None,\n",
       "   'profile_background_color': '000000',\n",
       "   'profile_background_image_url': 'http://abs.twimg.com/images/themes/theme1/bg.png',\n",
       "   'profile_background_image_url_https': 'https://abs.twimg.com/images/themes/theme1/bg.png',\n",
       "   'profile_background_tile': False,\n",
       "   'profile_banner_url': 'https://pbs.twimg.com/profile_banners/736235995012665344/1519673467',\n",
       "   'profile_image_url': 'http://pbs.twimg.com/profile_images/801493159695917056/jXXXMWR9_normal.jpg',\n",
       "   'profile_image_url_https': 'https://pbs.twimg.com/profile_images/801493159695917056/jXXXMWR9_normal.jpg',\n",
       "   'profile_link_color': 'FAB034',\n",
       "   'profile_sidebar_border_color': '000000',\n",
       "   'profile_sidebar_fill_color': '000000',\n",
       "   'profile_text_color': '000000',\n",
       "   'profile_use_background_image': False,\n",
       "   'protected': False,\n",
       "   'screen_name': 'CoinFlipATM',\n",
       "   'statuses_count': 183,\n",
       "   'time_zone': 'Pacific Time (US & Canada)',\n",
       "   'translator_type': 'none',\n",
       "   'url': 'http://coinflip.tech',\n",
       "   'utc_offset': -28800,\n",
       "   'verified': False}},\n",
       " 'source': '<a href=\"http://twitter.com/download/android\" rel=\"nofollow\">Twitter for Android</a>',\n",
       " 'text': 'RT @CoinFlipATM: CoinFlip offers one of the lowest rates in the nation. 24 hour customer service and over 40 locations nationwide.\\n\\n#bitcoi…',\n",
       " 'timestamp_ms': '1519788544755',\n",
       " 'truncated': False,\n",
       " 'user': {'contributors_enabled': False,\n",
       "  'created_at': 'Tue Sep 12 16:48:13 +0000 2017',\n",
       "  'default_profile': True,\n",
       "  'default_profile_image': False,\n",
       "  'description': None,\n",
       "  'favourites_count': 56,\n",
       "  'follow_request_sent': None,\n",
       "  'followers_count': 1,\n",
       "  'following': None,\n",
       "  'friends_count': 27,\n",
       "  'geo_enabled': False,\n",
       "  'id': 907647043396542464,\n",
       "  'id_str': '907647043396542464',\n",
       "  'is_translator': False,\n",
       "  'lang': 'en',\n",
       "  'listed_count': 0,\n",
       "  'location': None,\n",
       "  'name': 'Jordan',\n",
       "  'notifications': None,\n",
       "  'profile_background_color': 'F5F8FA',\n",
       "  'profile_background_image_url': '',\n",
       "  'profile_background_image_url_https': '',\n",
       "  'profile_background_tile': False,\n",
       "  'profile_image_url': 'http://abs.twimg.com/sticky/default_profile_images/default_profile_normal.png',\n",
       "  'profile_image_url_https': 'https://abs.twimg.com/sticky/default_profile_images/default_profile_normal.png',\n",
       "  'profile_link_color': '1DA1F2',\n",
       "  'profile_sidebar_border_color': 'C0DEED',\n",
       "  'profile_sidebar_fill_color': 'DDEEF6',\n",
       "  'profile_text_color': '333333',\n",
       "  'profile_use_background_image': True,\n",
       "  'protected': False,\n",
       "  'screen_name': 'CoefishyT',\n",
       "  'statuses_count': 4,\n",
       "  'time_zone': None,\n",
       "  'translator_type': 'none',\n",
       "  'url': None,\n",
       "  'utc_offset': None,\n",
       "  'verified': False}}"
      ]
     },
     "execution_count": 30,
     "metadata": {},
     "output_type": "execute_result"
    }
   ],
   "source": [
    "#find the last tweet\n",
    "results = tweets_orig.aggregate([{\"$group\":{\"_id\":\"fixed\",\"id\":{\"$max\":\"$id\"}}}])\n",
    "\n",
    "for r in results:\n",
    "    last_id = r[\"id\"]\n",
    "    print(last_id)\n",
    "\n",
    "last_tweet = tweets_orig.find_one({\"id\":last_id})\n",
    "last_tweet"
   ]
  },
  {
   "cell_type": "markdown",
   "metadata": {
    "ExecuteTime": {
     "end_time": "2018-02-28T03:17:40.308390Z",
     "start_time": "2018-02-28T03:17:40.303854Z"
    }
   },
   "source": [
    "### Tweet stats"
   ]
  },
  {
   "cell_type": "code",
   "execution_count": 4,
   "metadata": {
    "ExecuteTime": {
     "end_time": "2018-03-07T01:24:43.096226Z",
     "start_time": "2018-03-07T01:24:43.087767Z"
    }
   },
   "outputs": [
    {
     "data": {
      "text/plain": [
       "''"
      ]
     },
     "execution_count": 4,
     "metadata": {},
     "output_type": "execute_result"
    }
   ],
   "source": [
    "#example aggregate queries\n",
    "#project\n",
    "'''\n",
    "pipeline_3 = [\n",
    "    {\"$project\" : { \"title_words\" : {\"$split\": [\"$title\", \" \"]}}},\n",
    "    {\"$unwind\": \"$title_words\"},\n",
    "    {\"$match\": {\"title_words\":{\"$not\":{\"$in\":stop_words}}}},\n",
    "    {\"$group\": {\"_id\": \"$title_words\", \"count\": {\"$sum\": 1}}},\n",
    "    {\"$sort\": SON([(\"count\", -1), (\"_id\", -1)])},\n",
    "    {\"$limit\": 5}]\n",
    "\n",
    "for val in hmr.aggregate(pipeline_3):\n",
    "    print (\"name:\",val[\"_id\"],\"count:\",val[\"count\"])\n",
    "'''\n",
    "#add fields\n",
    "'''\n",
    "pipeline = [\n",
    "    {\"$addFields\" : { \"metal_score\" : {\"$size\": \"$metal_cred\"}}},\n",
    "    {\"$out\" : \"heavy_metal\"}]\n",
    "\n",
    "for doc in hmr.aggregate(pipeline):\n",
    "    print(doc)\n",
    "'''\n",
    ";"
   ]
  },
  {
   "cell_type": "code",
   "execution_count": 6,
   "metadata": {
    "ExecuteTime": {
     "end_time": "2018-03-07T01:27:55.739594Z",
     "start_time": "2018-03-07T01:26:47.360155Z"
    }
   },
   "outputs": [
    {
     "name": "stdout",
     "output_type": "stream",
     "text": [
      "5961295 1019513 927335\n"
     ]
    }
   ],
   "source": [
    "#Count total, excl retweet, excl retweets & quotes\n",
    "total = tweets_orig.count()\n",
    "not_retweet = tweets_orig.count({\"retweeted_status\":{\"$exists\":False}})\n",
    "not_retweet_not_quote = tweets_orig.count({\"retweeted_status\":{\"$exists\":False},\n",
    "                                      \"quoted_status\":{\"$exists\":False}\n",
    "                                 })\n",
    "\n",
    "print(total, not_retweet, not_retweet_not_quote)"
   ]
  },
  {
   "cell_type": "code",
   "execution_count": 7,
   "metadata": {
    "ExecuteTime": {
     "end_time": "2018-03-07T01:28:34.001789Z",
     "start_time": "2018-03-07T01:27:58.853794Z"
    }
   },
   "outputs": [],
   "source": [
    "#Check extended + retweeted tweets\n",
    "tweets_orig.find_one({\"retweeted_status\":{\"$exists\":True},\n",
    "                      \"extended_tweet\":{\"$exists\":True}})"
   ]
  },
  {
   "cell_type": "markdown",
   "metadata": {},
   "source": [
    "### Export Non-RT, Non-Quote"
   ]
  },
  {
   "cell_type": "code",
   "execution_count": 5,
   "metadata": {
    "ExecuteTime": {
     "end_time": "2018-03-07T18:36:41.672993Z",
     "start_time": "2018-03-07T18:34:45.015859Z"
    }
   },
   "outputs": [
    {
     "data": {
      "text/plain": [
       "927335"
      ]
     },
     "execution_count": 5,
     "metadata": {},
     "output_type": "execute_result"
    }
   ],
   "source": [
    "#Export useful tweets to collection\n",
    "#    match - not retweet, not quote\n",
    "#    project - keep tweetid, userid, created_at, text, tags; \n",
    "#              text and tags use extended version if available\n",
    "#    out - send to new collection\n",
    "pipeline = [\n",
    "    {\"$match\": {\"retweeted_status\":{\"$exists\":False},\n",
    "                \"quoted_status\":{\"$exists\":False}}\n",
    "    },\n",
    "    {\"$project\" : {\"tweet_id\":\"$id\", \n",
    "                   \"user_id\":\"$user.id\",\n",
    "                   \"user_name\":\"$user.name\",\n",
    "                   \"created_at\":1, \n",
    "                   \"text\":{\"$ifNull\":[\"$extended_tweet.full_text\",\"$text\"]}, \n",
    "                   \"entities\":{\"$ifNull\":[\"$extended_tweet.entities\",\"$entities\"]}, \n",
    "                  }\n",
    "    },\n",
    "    {\"$out\" : \"tweets_reduced\"}\n",
    "]\n",
    "\n",
    "tweets_orig.aggregate(pipeline)\n",
    "\n",
    "tweets = db.tweets_reduced\n",
    "tweets.count()"
   ]
  },
  {
   "cell_type": "code",
   "execution_count": 6,
   "metadata": {
    "ExecuteTime": {
     "end_time": "2018-03-07T18:36:41.684186Z",
     "start_time": "2018-03-07T18:36:41.680649Z"
    },
    "scrolled": true
   },
   "outputs": [
    {
     "data": {
      "text/plain": [
       "{'_id': ObjectId('5a9609c31b9d8f0a7da9b49f'),\n",
       " 'created_at': 'Wed Feb 28 01:45:39 +0000 2018',\n",
       " 'entities': {'hashtags': [{'indices': [33, 37], 'text': 'BTC'},\n",
       "   {'indices': [38, 50], 'text': 'bitcoincash'},\n",
       "   {'indices': [51, 59], 'text': 'Bitcoin'},\n",
       "   {'indices': [60, 66], 'text': 'Ether'},\n",
       "   {'indices': [67, 76], 'text': 'ethereum'},\n",
       "   {'indices': [77, 84], 'text': 'crypto'},\n",
       "   {'indices': [85, 100], 'text': 'cryptocurrency'}],\n",
       "  'symbols': [],\n",
       "  'urls': [{'display_url': 'marketwatch.com/story/square-w…',\n",
       "    'expanded_url': 'https://www.marketwatch.com/story/square-wants-to-build-out-app-that-accepts-bitcoin-but-spending-plans-stall-stock-2018-02-27',\n",
       "    'indices': [101, 124],\n",
       "    'url': 'https://t.co/RTOoiLM453'}],\n",
       "  'user_mentions': []},\n",
       " 'text': 'Can the Bitcoin be De-throned ?  #BTC #bitcoincash #Bitcoin #Ether #ethereum #crypto #cryptocurrency https://t.co/RTOoiLM453',\n",
       " 'tweet_id': 968663454239350785,\n",
       " 'user_id': 826395116483002368,\n",
       " 'user_name': 'someone somewhere'}"
      ]
     },
     "execution_count": 6,
     "metadata": {},
     "output_type": "execute_result"
    }
   ],
   "source": [
    "tweets.find_one()"
   ]
  },
  {
   "cell_type": "markdown",
   "metadata": {
    "ExecuteTime": {
     "end_time": "2018-03-07T01:45:21.584096Z",
     "start_time": "2018-03-07T01:45:21.581711Z"
    }
   },
   "source": [
    "### Export tags"
   ]
  },
  {
   "cell_type": "code",
   "execution_count": 7,
   "metadata": {
    "ExecuteTime": {
     "end_time": "2018-03-07T18:37:37.172652Z",
     "start_time": "2018-03-07T18:36:41.691443Z"
    }
   },
   "outputs": [
    {
     "data": {
      "text/plain": [
       "927335"
      ]
     },
     "execution_count": 7,
     "metadata": {},
     "output_type": "execute_result"
    }
   ],
   "source": [
    "#Export tweets tags\n",
    "#    match - not retweet, not quote\n",
    "#    project - keep tweetid, userid, created_at, text, tags; \n",
    "#              text and tags use extended version if available\n",
    "#    out - send to new collection\n",
    "pipeline = [\n",
    "    {\"$match\": {\"retweeted_status\":{\"$exists\":False},\n",
    "                \"quoted_status\":{\"$exists\":False}}\n",
    "    },\n",
    "    {\"$project\" : {\"tweet_id\":\"$id\", \n",
    "                   \"user_id\":\"$user.id\",\n",
    "                   \"user_name\":\"$user.name\",\n",
    "                   \"created_at\":1,\n",
    "                   \"truncated\":1,\n",
    "                   \"text\":{\"$ifNull\":[\"$extended_tweet.full_text\",\"$text\"]}, \n",
    "                   \"hashtags\":{\"$map\":{\"input\":{\"$ifNull\":[\"$extended_tweet.entities.hashtags\",\"$entities.hashtags\"]},\n",
    "                                       \"as\":\"item\",\n",
    "                                       \"in\":{\"$toLower\":\"$$item.text\"}\n",
    "                                      }\n",
    "                              }, \n",
    "                   \"symbols\":{\"$map\":{\"input\":{\"$ifNull\":[\"$extended_tweet.entities.symbols\",\"$entities.symbols\"]},\n",
    "                                       \"as\":\"item\",\n",
    "                                       \"in\":{\"$toLower\":\"$$item.text\"}\n",
    "                                      }\n",
    "                              }\n",
    "                  }\n",
    "    },\n",
    "    {\"$out\" : \"tweets_tags\"}\n",
    "]\n",
    "\n",
    "tweets_orig.aggregate(pipeline)\n",
    "\n",
    "tags = db.tweets_tags\n",
    "tags.count()"
   ]
  },
  {
   "cell_type": "code",
   "execution_count": 8,
   "metadata": {
    "ExecuteTime": {
     "end_time": "2018-03-07T18:37:37.183969Z",
     "start_time": "2018-03-07T18:37:37.180861Z"
    }
   },
   "outputs": [
    {
     "data": {
      "text/plain": [
       "{'_id': ObjectId('5a9609c31b9d8f0a7da9b49f'),\n",
       " 'created_at': 'Wed Feb 28 01:45:39 +0000 2018',\n",
       " 'hashtags': ['btc',\n",
       "  'bitcoincash',\n",
       "  'bitcoin',\n",
       "  'ether',\n",
       "  'ethereum',\n",
       "  'crypto',\n",
       "  'cryptocurrency'],\n",
       " 'symbols': [],\n",
       " 'text': 'Can the Bitcoin be De-throned ?  #BTC #bitcoincash #Bitcoin #Ether #ethereum #crypto #cryptocurrency https://t.co/RTOoiLM453',\n",
       " 'truncated': False,\n",
       " 'tweet_id': 968663454239350785,\n",
       " 'user_id': 826395116483002368,\n",
       " 'user_name': 'someone somewhere'}"
      ]
     },
     "execution_count": 8,
     "metadata": {},
     "output_type": "execute_result"
    }
   ],
   "source": [
    "tags.find_one()"
   ]
  },
  {
   "cell_type": "markdown",
   "metadata": {},
   "source": [
    "#### Count Tags"
   ]
  },
  {
   "cell_type": "code",
   "execution_count": 29,
   "metadata": {
    "ExecuteTime": {
     "end_time": "2018-03-07T02:43:44.840144Z",
     "start_time": "2018-03-07T02:43:42.485212Z"
    }
   },
   "outputs": [
    {
     "name": "stdout",
     "output_type": "stream",
     "text": [
      "name: bts count: 256937\n",
      "name: iheartawards count: 239488\n",
      "name: bestboyband count: 231844\n",
      "name: bitcoin count: 215345\n",
      "name: blockchain count: 170930\n",
      "name: cryptocurrency count: 167160\n",
      "name: crypto count: 127781\n",
      "name: ico count: 111772\n",
      "name: ethereum count: 95411\n",
      "name: airdrop count: 85188\n",
      "name: btc count: 81088\n",
      "name: eth count: 53374\n",
      "name: ripple count: 29540\n",
      "name: pumpkinpay count: 29463\n",
      "name: cryptobountyprogram count: 29329\n",
      "name: xrp count: 29115\n",
      "name: freetoke count: 29004\n",
      "name: ltc count: 26191\n",
      "name: trx count: 20843\n",
      "name: fintech count: 20766\n",
      "name: litecoin count: 20675\n",
      "name: tokensale count: 18519\n",
      "name: neo count: 17773\n",
      "name: binance count: 17466\n",
      "name: bounty count: 16749\n",
      "name: altcoin count: 16554\n",
      "name: xvg count: 16408\n",
      "name: erc20 count: 16245\n",
      "name: cybersecurity count: 15151\n",
      "name: tron count: 14286\n",
      "name: news count: 14222\n",
      "name: altcoins count: 14208\n",
      "name: tokens count: 13660\n",
      "name: cryptocurrencies count: 13008\n",
      "name: trading count: 12818\n",
      "name: xlm count: 12788\n",
      "name: hopeworld count: 12786\n",
      "name: bestfanarmy count: 12597\n",
      "name: ada count: 12252\n",
      "name: btsarmy count: 12213\n",
      "name: token count: 12146\n",
      "name: giveaway count: 11495\n",
      "name: eos count: 11448\n",
      "name: bitcoincash count: 11185\n",
      "name: ai count: 10510\n",
      "name: verge count: 10238\n",
      "name: energytokens count: 10078\n",
      "name: bch count: 9837\n",
      "name: money count: 8522\n",
      "name: xrb count: 7912\n",
      "name: free count: 7841\n",
      "name: thosfansbts4m count: 7830\n",
      "name: iot count: 7711\n",
      "name: gto count: 7407\n",
      "name: sohu count: 7326\n",
      "name: sohuworld count: 7292\n",
      "name: jobs count: 7244\n",
      "name: hiring count: 7207\n",
      "name: telegram count: 7071\n",
      "name: careers count: 7010\n",
      "name: iota count: 6989\n",
      "name: thosfansbts3m count: 6625\n",
      "name: forex count: 6602\n",
      "name: tech count: 6582\n",
      "name: business count: 6489\n",
      "name: dash count: 6379\n",
      "name: invest count: 6356\n",
      "name: wednesdaywisdom count: 6266\n",
      "name: lino count: 6207\n",
      "name: linonetwork count: 6186\n",
      "name: daydream count: 6092\n",
      "name: telegramico count: 6083\n",
      "name: stocks count: 5968\n",
      "name: cryptonews count: 5928\n",
      "name: telegramcrowdsale count: 5885\n",
      "name: airdrops count: 5851\n",
      "name: coinbase count: 5594\n",
      "name: tiqpit count: 5552\n",
      "name: commodity count: 5522\n",
      "name: investing count: 5337\n",
      "name: freetoken count: 5199\n",
      "name: startup count: 5153\n",
      "name: energytoken count: 5046\n",
      "name: enrt count: 5035\n",
      "name: coin count: 4996\n",
      "name: monero count: 4972\n",
      "name: jinday count: 4931\n",
      "name: crowdfunding count: 4895\n",
      "name: mining count: 4825\n",
      "name: bigdata count: 4815\n",
      "name: finance count: 4659\n",
      "name: jhope count: 4496\n",
      "name: xmr count: 4257\n",
      "name: thosfansbts28f count: 4205\n",
      "name: cannabis count: 4131\n",
      "name: thosfansbts1m count: 4062\n",
      "name: profit count: 4055\n",
      "name: technology count: 3977\n",
      "name: thosfansbts2m count: 3927\n",
      "name: market count: 3858\n"
     ]
    }
   ],
   "source": [
    "from bson import SON\n",
    "\n",
    "pipeline = [\n",
    "    {\"$unwind\": \"$hashtags\"},\n",
    "    {\"$group\": {\"_id\": \"$hashtags\", \"count\": {\"$sum\": 1}}},\n",
    "    {\"$sort\": SON([(\"count\", -1), (\"_id\", 1)])},\n",
    "    {\"$limit\": 100}]\n",
    "\n",
    "for val in tags.aggregate(pipeline):\n",
    "    print (\"name:\",val[\"_id\"],\"  \",val[\"count\"])"
   ]
  },
  {
   "cell_type": "markdown",
   "metadata": {},
   "source": [
    "#### Count Distinct Tags"
   ]
  },
  {
   "cell_type": "code",
   "execution_count": 41,
   "metadata": {
    "ExecuteTime": {
     "end_time": "2018-03-07T04:03:08.305464Z",
     "start_time": "2018-03-07T04:03:05.860786Z"
    }
   },
   "outputs": [
    {
     "name": "stdout",
     "output_type": "stream",
     "text": [
      "{'_id': 'All', 'tag_count': 13217}\n"
     ]
    }
   ],
   "source": [
    "min_occur = 5\n",
    "\n",
    "pipeline = [\n",
    "    {\"$unwind\": \"$hashtags\"},\n",
    "    {\"$group\": {\"_id\": \"$hashtags\", \"count\": {\"$sum\": 1}}},\n",
    "    {\"$sort\": SON([(\"count\", -1), (\"_id\", 1)])},\n",
    "    {\"$match\": {\"count\":{\"$gte\":min_occur}}},\n",
    "    {\"$group\": {\"_id\":\"All\", \"tag_count\":{\"$sum\":1}}},\n",
    "]\n",
    "\n",
    "for val in tags.aggregate(pipeline):\n",
    "    print (val)"
   ]
  },
  {
   "cell_type": "markdown",
   "metadata": {},
   "source": [
    "#### Count Tags Per User"
   ]
  },
  {
   "cell_type": "code",
   "execution_count": 45,
   "metadata": {
    "ExecuteTime": {
     "end_time": "2018-03-07T04:07:11.690076Z",
     "start_time": "2018-03-07T04:07:08.439174Z"
    },
    "scrolled": true
   },
   "outputs": [
    {
     "name": "stdout",
     "output_type": "stream",
     "text": [
      "{'_id': 941606472298958848, 'count': 23646, 'unique_tags': ['giveaway', 'market', 'token', 'ethereum', 'bitcoin', 'cryptocurrency', 'fx', 'gold', 'trx', 'win', 'coin', 'bonus', 'stocks', 'ico', 'tech', 'ltc', 'fintech', 'crypto', 'investing', 'xrp', 'world', 'bitcoincash', 'tron', 'tokensale', 'btc', 'airdrop', 'money', 'trade', 'news', 'altcoin', 'finance', 'iota', 'blockchain', 'profit', 'binance', 'eth', 'xvg', 'altcoins', 'lol', 'deals', 'trading', 'ripple', 'erc20', 'bch', 'startup', 'coins', 'forex', 'invest']}\n",
      "{'_id': 941607752518045697, 'count': 23529, 'unique_tags': ['ripple', 'forex', 'bitcoin', 'cryptocurrency', 'fx', 'gold', 'ethereum', 'token', 'crypto', 'investing', 'altcoins', 'deals', 'lol', 'trading', 'giveaway', 'tech', 'stocks', 'bonus', 'ico', 'airdrop', 'fintech', 'bch', 'erc20', 'profit', 'world', 'bitcoincash', 'xrp', 'news', 'altcoin', 'coin', 'win', 'ltc', 'trade', 'eth', 'binance', 'finance', 'tokensale', 'tron', 'btc', 'trx', 'invest', 'xvg', 'money', 'iota', 'market', 'coins', 'startup', 'blockchain']}\n",
      "{'_id': 941224119835688960, 'count': 22517, 'unique_tags': ['crypto', 'ethereum', 'tech', 'ico', 'bonus', 'stocks', 'xvg', 'coin', 'win', 'invest', 'bitcoin', 'gold', 'fx', 'cryptocurrency', 'investing', 'fintech', 'finance', 'money', 'market', 'iota', 'forex', 'trx', 'ripple', 'trading', 'lol', 'deals', 'profit', 'btc', 'trade', 'tokensale', 'tron', 'binance', 'eth', 'xrp', 'world', 'bitcoincash', 'giveaway', 'altcoin', 'ltc', 'token', 'blockchain', 'altcoins', 'erc20', 'bch', 'startup', 'coins', 'airdrop', 'news']}\n",
      "{'_id': 126255031, 'count': 22119, 'unique_tags': ['ceek', 'freecoins', 'altcoin', 'ada', 'neo', 'eth', 'ltc', 'giveaway', 'crypto', 'litecoin', 'airdrop', 'xrp', 'ico', 'ethereum', 'bitcoin', 'bch', 'dogecoin', 'coinbase', 'cryptocurrency', 'bitcoincash', 'btc', 'binance']}\n",
      "{'_id': 947417939208232960, 'count': 15006, 'unique_tags': ['camberley', 'lymeregis', 'redhill', 'marketharborough', 'crowborough', 'darlington', 'walton', 'cf11', 'caerdydd', 'oakham', 'n7', 'hale', 'eccles', 'stokeprior', 'stockton', 'stafford', 'solr', 'g40', 'alfreton', 'bh8', 'hambrook', 'worksop', 'congleton', 'elsworth', 'hatfield', 'bradford', 'wembley', 'so14', 'cityandcountyofthecityoflondon', 'lichfield', 'larkfield', 'gl3', 'sk9', 'knutsford', 'banbury', 'gu1', 'rh20', 'harrogate', 'leamingtonspa', 'harpenden', 'cityofwestminster', 'oldbury', 'chester', 'rotherham', 'marlborough', 'ab15', 'macclesfield', 'staines', 'python3', 'gaydon', 'alderleyedge', 'exeter', 'orpington', 'margate', 'eastleigh', 'bs21', 'horsham', 'herefordshire', 'gatwick', 'felixstowe', 'bl1', 'brighouse', 'mongodb', 'wallingford', 'crewe', 'twickenham', 'bedfordshire', 'ascot', 'trowbridge', 'nuneaton', 'derbyshire', 'letchworth', 'chesterfield', 'south', 'barnsley', 'yeovil', 'peterlee', 'ox28', 'stevenage', 'pl3', 'welwyngardencity', 'ipswich', 'ansty', 'hull', 'huddersfield', 'kingstonuponthames', 'lisburn', 'devon', 'wokingham', 'kent', 'rochdale', 'redditch', 'plymouth', 'tamworth', 'wednesdaywisdom', 'newbury', 'kenilworth', 'thorntonheath', 'watford', 'eye', 'feltham', 'pontyclun', 'haywardsheath', 'england', 'bath', 'northwestlondon', 'greatermanchester', 'leicestershire', 'isleworth', 'nottingham', 'm14', 'coventgarden', 'westmidlands', 'solihull', 'glasgow', 'waterlooville', 'chichester', 'york', 'windsor', 'node', 'rhyl', 'blackpool', 'dorset', 'southwestlondon', 'manchester', 'bangor', 'witney', 'grantham', 'slough', 'birmingham', 'nodejs', 'miltonkeynes', 'eh13', 'glastonbury', 'gravesend', 'reigate', 'python', 'huntingdon', 'northyorkshire', 'bb11', 'cityoflondon', 'peterborough', 'php', 'se17', 'javascript', 'suffolk', 'southeastlondon', 'go', 'surrey', 'leeds', 'street', 'epsom', 'bournemouth', 'developer', 'uk', 'wirral', 'react', 'ashton', 'northampton', 'cityofedinburgh', 'crawley', 'royaltunbridgewells', 'southend', 'newcastle', 'automation', 'developers', 'poole', 'uxbridge', 'lewes', 'hiring', 'hayes', 'southampton', 'ashbourne', 'ruby', 'farnham', 'london', 'colchester', 'bigdata', 'ashford', 'artificialintelligence', 'ec2v', 'yo31', 'wilmslow', 'derby', 'chatham', 'twitterlockout', 'cheltenham', 'luton', 'esher', 'farnborough', 'sunderland', 'westdrayton', 'so22', 'stroud', 'basingstoke', 'dn22', 'cheshire', 'cityofglasgow', 'burnley', 'newmalden', 'nn1', 'wiltshire', 'angular', 'blockchain', 'gwent', 'burton', 'scala', 'lancashire', 'jobs', 'cityofaberdeen', 'cryptocurrency', 'westlondon', 'westwickham', 'perl', 'langleymarish', 'basildon', 'wetherby', 'salisbury', 'berkshire', 'sheffield', 'swindon', 'hemelhempstead', 'wakefield', 'bromley', 'cambridge', 'altrincham', 'oxfordshire', 'objective', 'swift', 'knaresborough', 'centrallondon', 'eastlondon', 'edinburgh', 'cannock', 'greaterlondon', 'warrington', 'careers', 'sevenoaks', 'hampshire', 'west', 'harrow', 'ng7', 'rugby', 'abingdon', 'birkenhead', 'ox5', 'java', 'city', 'croydon', 'buryst', 'greater', 'woodbridge', 'gloucester', 'rochester', 'northwestengland', 'ox3', 'andover', 'staffordshire', 'stockport', 'bishop', 'rg21', 'dartford', 'b6', 'brighton', 'cardiff', 'burntwood', 'united', 'didcot', 'northamptonshire', 'gloucestershire', 'portsmouth', 'hardingstone', 'wendover', 'norfolk', 'runcorn', 'robotics', 'salford', 'harlow', 'borehamwood', 'newcastleupontyne', 'rg1', 'fleet', 'sittingbourne', 'richmond', 'maidenhead', 'worthing', 'dundee', 'machinelearning', 'rye', 'bagshot', 'nottinghamshire', 'coventry', 'eton', 'burystedmunds', 'warwickshire', 'ch1', 'middlesex', 'islington', 'bolton', 'woking', 'bridgwater', 'ramsgate', 'merseyside', 'bakerstreet', 'uckfield', 'clwyd', 'northlondon', 'newton', 'ol7', 'gateshead', 'skelmersdale', 'rg14', 'st', 'bracknell', 'preston', 'worcestershire', 'lu3', 'durham', 'hertfordshire', 'ip14', 'clifton', 'stansted', 'bognorregis', 'hereford', 'aylesbury', 'westsussex', 'liverpool', 'aberdeen', 'leicester', 'hampstead', 'newport', 'king', 'aldershot', 'horley', 'canarywharf', 'rg12', 'molesworth', 'daventry', 'bristol', 'kidderminster', 'oxford', 'belfast', 'reading', 'maidstone', 'guildford', 'cambridgeshire', 'essex', 'doncaster', 'eastdurham', 'whitechapel', 'norwich', 'ne3', 'bury']}\n",
      "{'_id': 962552795382640640, 'count': 14728, 'unique_tags': ['adk', 'aidoskuneen', 'bitcoin', 'crypto']}\n",
      "{'_id': 952495140773531649, 'count': 13256, 'unique_tags': ['investing', 'altcoin', 'news', 'fintech', 'ripple', 'tech', 'ico', 'bonus', 'stocks', 'blockchain', 'btc', 'profit', 'bitcoin', 'cryptocurrency', 'gold', 'fx', 'ethereum', 'token', 'deals', 'lol', 'trading', 'money', 'trx', 'forex', 'invest', 'xrp', 'world', 'bitcoincash', 'coin', 'win', 'coins', 'startup', 'crypto', 'ltc', 'bch', 'erc20', 'eth', 'binance', 'trade', 'tokensale', 'tron', 'xvg', 'market', 'iota', 'altcoins', 'airdrop', 'finance', 'giveaway']}\n",
      "{'_id': 625289155, 'count': 12888, 'unique_tags': ['bitcoincashmining', 'theft', 'buyspend', 'attorneys', 'casa', 'bitgo', 'decentralized', 'consensusnode', 'guestpost', 'usd', 'cryptomining', 'crowdfund', 'angelinvestors', 'advaniadata', 'r3', 'vechainprice', 'kazakhstan', 'southafricans', 'starbucks', 'applications', 'work', 'digitalnomads', 'bitcointrading', 'bitcoinfee', 'the2018yearofcryptocurrencychallenge', 'northkorea', 'bitcoincore', 'contractnet', 'stellarprice', 'blackcoinnews', 'airdrops', 'betaversion', 'alpha', 'tokenlab', 'bitcoindonation', 'tokenized', 'ponzi', 'nationalnews', 'maxkeiser', 'etherbots', 'bitpay', 'belgium', 'belgian', 'dragon', 'cryptocurrencyinvestment', 'xrp', 'xrapid', 'cryptowolf', 'rbtc', 'eco', 'adriancasey', 'hashflare', 'bancocentraldelecuador', 'shipownerio', 'district0x', 'hamster', 'dentacoin', 'pyrmaidscheme', 'ponzischeme', 'moneroprice', 'approve', 'foundation', 'qtum', 'etherdelta', 'ltc', 'litecoinprice', 'bitcointalk', 'proofoftoss', 'appstore', 'hotoken', 'batching', 'invest', 'africa', 'hodl', 'bitcoiners', '1200newagencies', 'netherlands', 'corda', 'sanctions', 'emergingmarkets', 'sonm', 'argentina', 'uk', 'miningrigtheft', 'iceland', 'bitwala', 'gold', 'btcglobal', 'casper', 'bitcointheft', 'bitcoinextortion', 'cappasity', 'garrettcamp', 'branding', 'bitcoinresearch', 'silkroad', 'datarius', 'ethverse', 'rossulbricht', 'bitcoinscams', 'economyregulation', 'bellator', 'biometricdata', 'bankofengland', 'twitter', 'nano', 'cryptopia', 'ethos', 'bitcoinus', 'approved', 'tradings', 'segwit', 'tokenwizard', 'bearish', 'cryptomenow', 'censorship', 'viacoin', 'ato', 'leadinvest', 'ai', 'businessnews', 'acronyms', 'eos', 'tokens', 'moonforharambe', '132investors', 'amd', 'bitcoinregulation', 'usecasesverticals', 'investing', 'otherpublicprotocols', 'selfregulation', 'etherium', 'bitcoinopinion', 'kraken', 'req', 'ath', 'finance', 'bitcoincasino', 'canada', 'cryptotech', 'icocrypto', 'fundamental', 'hsbc', 'removalbot', 'pornx', 'lichtenstein', 'education', 'dianeabbott', 'altcoinprices', 'justicedepartment', 'banknegaramalaysia', 'marketupdates', 'irs', 'acceptsbitcoin', 'coinbase', 'tenx', 'buyripple', 'educions', 'cryptodad', 'flippening', 'mwc18', 'cryptographer', 'patron', '4yfn18', 'bankofamerica', 'lawandlegislation', 'bitcoinwallet', 'payments', 'cryptocoins', 'interview', 'dogecoin', 'bitcoininvestment', 'regulation', 'malaysia', 'consensys', 'spokes', 'ardor', '114mn', 'bitcoinprivate', 'exchanges', 'augmentedreality', 'omisegoprice', 'waltonchainprice', 'omg', 'ibm', 'cvc', 'brahmaos', 'bchlaunch', 'draft', 'markspace', 'british', 'compliance', 'bitcointraders', 'dapp', 'bitcoinanalysis', 'yandex', 'syncfab', 'bitcoinprogress', 'nexusprice', 'jpmorgan', 'cc', 'hashchain', 'boies', 'toss', 'monerov', 'uae', 'australia', 'tokyo', 'blockchainnews', 'controversy', 'amsterdam', 'altcoins', 'ammann', 'uncategorized', 'altcoin', 'jamiedimon', 'camp', 'dash', 'tokenstars', 'atmcards', 'bitcoincashanalysis', 'vechain', 'ether', 'btc', 'bitcoins', 'blocks', 'crowdsale', 'advocates', 'neo', 'bittrex', 'fintechnews', 'cryptos', 'law', 'bitcoincash', 'bitcoincrime', 'shopping', 'usa', 'paywithlitecoin', 'iota', 'cryptoworld', 'collateral', 'episode', 'funfair', 'adamjoy', 'wedbushfutures', 'crypto_currency_news', 'coinmarketcap', 'mining', 'ethereumclassic', 'news', 'bitcoindominanceindex', 'trustedhealth', 'askmeanything', 'microsoft', 'features', 'dollar', 'bitcoinadoption', 'billgates', 'icos', 'bitcoinprice', '0x', 'podcast', 'cryptofinance', 'reddcoin', 'adoptionampcommunity', 'metaverse', 'blogs', 'reddit', 'digibyte', 'monaco', 'vertcoin', 'bitcoin', 'whitepaper', 'avast', 'litecoin', 'zcoin', 'ethereum', 'atlanta', 'fintech', 'china', 'bitcoinmarkets', 'bytecoin', 'analysis', 'asspace', 'eth', 'changelly', 'crypto', 'bear', 'technical', 'altcoinanalysis', 'digixdao', 'bitcoinminers', 'lisk', 'wallets', 'okoin', 'wallet', 'trading', 'blockchain', 'bitcoinservices', 'decred', 'amb', 'google', 'jdcom', 'cryptobridge', 'biometrid', 'cryptocurrencies', 'lawsuit', 'affordablehousing', 'sp8de', 'tether', 'tge', 'pressreleases', 'fomomoments', 'bitcoinsignals', 'nagoya', 'ripple', 'huobi', 'bch', 'monero', 'dubai', 'opinion', 'bchusd', 'cryptographic', 'listen', 'cloakcoin', 'asiantradingsession', 'coincheck', 'payment', 'futures', 'blockchains', 'court', 'golem', 'ark', 'stellarlumens', 'oped', 'eea', 'technologynews', 'valuecash', 'cheat', 'lykke', 'verge', 'android', 'technology', 'token', 'rippleprice', 'alanlane', 'concierge', 'priceanalysis', 'industrynews', 'cryptolosers', 'creditsuisse', 'southafrica', 'iconomi', 'coinmetrics', 'digitalcurrency', 'ico', 'icoanalysis', 'adoption', 'cardano', 'banking', 'mwc2018', 'bubble', 'britian', 'ama', 'russia', 'waltonchain', 'marketsnews', 'airdrop', 'blockchaincryptocurrency', 'cryptocurrency', 'storjcoin', 'nanocurrency', 'hardware', 'ada', 'featured', 'zcash', 'sale', 'komodo', 'india', 'cryptochainer', 'best_of_crypto', 'tomlee', 'cgtc', 'walton', 'exchange', 'cnbc', 'newsteaser', 'atms', 'cryptowinners', 'anticrypto', 'dash_force', 'goldmansachs', 'tezos', 'altcoinnews', 'bitstamp', 'socialmedia', 'italy', 'austria', 'vpn', 'legal', 'bankrupt', 'automobile', 'ip2pglobal', 'pressrelease', 'blockchaintechnology', 'government', 'augur', 'bitcointechnology', 'cryptovalley', 'venturecapital', 'omisego', 'cryptocurrenciesandtokens', 'charlielee', 'antibitcoin', 'uscanada', 'bitrewards', 'xinfin', 'ethereumprice', 'bitcoinmining', 'transactions', 'initialcoinoffering', 'saft', 'sec', 'subpoena', 'ban', 'scam', 'etheremon', 'cryptocurrencyprices', 'taxes', 'crackdown', 'angelawalch', 'supplychain', 'icoreview', 'startup', 'etc', '2million', 'cofoundit', 'btcxindia', 'neocash', 'gpu', 'currencyexchange', 'visa', 'ethexindia', 'tron', 'sponsored', 'germany', 'govcoin', 'investment', 'artsandcollectibles', 'skychain', 'initialcoinofferings', 'etheruem', 'p2p', 'powerledger', 'aymanrida', 'bitcoinexchange', 'particl', 'lightningnetwork', 'investor', 'wtc', 'commerce', 'casino', 'promoted', 'anonymous', 'hardfork', 'guestcontributor', 'sportyco', 'erc20', 'markets', 'prices', '530mn', 'bitflyer', 'electricity', 'ripplenews', 'arbitration', 'usdt', 'trade', 'bitcoinseizure', 'bitcoincashprice', 'blockchainprojects', 'volatility', 'security', 'aml', 'xlm', 'centralization', 'acquisition', 'bankofmexico', 'banks', 'berkeley', 'etherparty', 'amazon', 'etherscan', 'bank', 'austin', 'investors', 'fivebullets', 'buyers', 'bancor', 'accounts', 'adausd', 'icomarketing', 'application', 'ardor4yfn', 'ethorse', 'pivx', 'bitcoinauction', 'cryptomarkets', 'tronprice', 'crushcryptoweekly', 'botnet', 'nem', 'friendrequest', 'indorse', 'investments', 'coldstorage', 'food', 'civic', 'economics', '500agents', 'podcasts', 'cryptocurrencymarket', 'blockchainers', 'bigblockshort', 'cryptobank', 'cryptocoin', 'nxt', 'subfeatured', 'nexus', 'investigation', 'charity', 'altcoinprice', 'faq', 'unbankthebanked', 'walmart', 'bitconnect', 'bitgrail', 'bill', 'centrobank', 'switzerland', 'requestnetwork', 'coin', 'bitstrades', 'cryptocurrencyexchange', 'cccmonthlyreport', 'fraud', 'annualreport', 'ar', 'atm', 'bankfrick', 'japan', 'fiat', 'logistics', 'openbazaar', 'ahead', 'aussie', 'stratis', 'scaling', 'xmr', 'ethtrader', 'factom', 'nxs', 'barterdex', 'pumpanddump', 'navcoin', 'overstock', 'review', 'tax', 'dmarket', 'dbrain', 'ethereumanalysis', 'staking', 'koreanbitcoinnews', 'etctousd', 'sidechains', 'aelf', 'scthoughtleaders', 'sponsoredstories', 'crime', 'dex', 'companies', 'ecommerce', 'iexec']}\n",
      "{'_id': 206789872, 'count': 12589, 'unique_tags': ['angelinajolie', 'cyber', 'wikileaks', 'julianassange', 'cybersecurity', 'bitcoin', 'archives', 'csi', 'deepweb']}\n",
      "{'_id': 3875339716, 'count': 12566, 'unique_tags': ['bitcoin', 'cybersecurity']}\n",
      "{'_id': 928952765119893504, 'count': 11699, 'unique_tags': ['reigate', 'anaheim', 'sancarlos', 'edison', 'aylesbury', 'belfast', 'twickenham', 'edinburgh', 'stevenage', 'wednesdaywisdom', 'cityoflondon', 'eth', 'php', 'python', 'glenrock', 'chelmsford', 'stanford', 'westlondon', 'wimbledon', 'pasadena', 'btc', 'sanfrancisco', 'nyc', 'ny', 'newyork', 'careers', 'jobs', 'newark', 'nyack', 'herefordshire', 'manchester', 'fintech', 'london', 'southwestlondon', 'redwoodcity', 'rahway', 'ruby', 'iot', 'ethereum', 'santaclara', 'crawley', 'newcastleupontyne', 'paddington', 'us', 'regtech', 'england', 'manhattan', 'node', 'cryptocurrency', 'kyc', 'hicksville', 'se11nl', 'blockchain', 'ca', 'united', 'losangeles', 'crypto', 'santaana', 'whiteplains', 'newyorkcity', 'developers', 'bitcoin', 'uk', 'cheltenham', 'automation', 'swindon', 'hoboken', 'usa', 'jerseycity', 'bch', 'javascript', 'murrayhill', 'westerham', 'hiring', 'berkeley', 'developer', 'bournemouth', 'nj', 'twitterlockout', 'suffern', 'oakland', 'greater', 'nottingham', 'nodejs', 'longislandcity', 'monsey', 'purchase', 'sanjose', 'shorthills', 'liverpool', 'florhampark', 'paloalto', 'city', 'whippany', 'kent', 'sanmateo', 'sunnyvale', 'santamonica', 'insurtech', 'montvale', 'thecity', 'ico', 'p2plending']}\n",
      "{'_id': 941258978755047424, 'count': 10990, 'unique_tags': ['fintech', 'trading', 'lol', 'deals', 'ethereum', 'token', 'blockchain', 'cryptocurrency', 'gold', 'bitcoin', 'fx', 'bch', 'erc20', 'eth', 'binance', 'trade', 'btc', 'news', 'trx', 'forex', 'ltc', 'coins', 'startup', 'altcoin', 'xrp', 'invest', 'ico', 'stocks', 'bonus', 'tech', 'win', 'coin', 'money', 'bitcoincash', 'world', 'investing', 'crypto', 'tron', 'tokensale', 'market', 'iota', 'profit', 'airdrop', 'finance', 'giveaway', 'altcoins', 'xvg', 'ripple']}\n",
      "{'_id': 941678500431499264, 'count': 10835, 'unique_tags': ['coin', 'altcoin', 'airdrop', 'investing', 'crypto', 'win', 'bonus', 'tech', 'stocks', 'ico', 'btc', 'trade', 'tokensale', 'tron', 'xrp', 'ripple', 'ltc', 'blockchain', 'gold', 'cryptocurrency', 'bitcoin', 'fx', 'deals', 'lol', 'trading', 'finance', 'coins', 'startup', 'xvg', 'token', 'ethereum', 'news', 'altcoins', 'money', 'iota', 'market', 'trx', 'binance', 'eth', 'bch', 'erc20', 'forex', 'fintech', 'bitcoincash', 'world', 'invest', 'profit', 'giveaway']}\n",
      "{'_id': 927833153049448449, 'count': 10150, 'unique_tags': ['nodejs', 'developers', 'node', 'rochdale', 'halifax', 'warwick', 'wednesdaywisdom', 'artificailintelligence', 'artificialintelligence', 'developer', 'uk', 'oxford', 'automation', 'robots', 'bridgnorth', 'hiring', 'python', 'php', 'ls7', 'machinelearning', 'careers', 'blockchain', 'ai', 'derby', 'belfast', 'twitterlockout', 'robotics', 'epsom', 'jobs', 'edinburgh', 'cryptocurrency', 'glasgow', 'cwmbran', 'reading', 'london', 'leeds', 'woking', 'ruby', 'york', 'brighton', 'city', 'bath', 'javascript', 'manchester', 'liverpool', 'blackburn', 'staines', 'bristol', 'isleworth', 'united', 'andover']}\n",
      "{'_id': 931524643365769216, 'count': 9257, 'unique_tags': ['python', 'ruby', 'luton', 'maidenhead', 'southampton', 'telford', 'stokeontrent', 'brighton', 'ascot', 'oxford', 'farnborough', 'england', 'bath', 'oxfordshire', 'norwich', 'havant', 'richmond', 'northlondon', 'nodejs', 'perthshire', 'watford', 'dundee', 'portsmouth', 'sheffield', 'bristol', 'isleworth', 'bournemouth', 'barking', 'clwyd', 'automation', 'ely', 'worthing', 'edinburgh', 'eastlondon', 'solihull', 'cambridge', 'blockchain', 'uk', 'projectmangement', 'hiring', 'wednesdaywisdom', 'reigate', 'developer', 'kanban', 'nottingham', 'southwestlondon', 'leeds', 'surrey', 'scrummaster', 'ipswich', 'city', 'winchester', 'agile', 'london', 'salford', 'perth', 'reading', 'twitterlockout', 'manchester', 'jobs', 'careers', 'cryptocurrency', 'bradford', 'scrum', 'bigdata', 'liverpool', 'glasgow', 'cheltenham', 'solr', 'paignton', 'javascript', 'gaydon', 'west', 'node', 'php', 'exeter', 'bracknell', 'merton', 'chester', 'united', 'newquay', 'cardiff', 'wigtown']}\n",
      "{'_id': 721423662633656320, 'count': 9104, 'unique_tags': ['losangeles', 'deathrow', 'hiphop', 'qanon', 'iota', 'knowledge', 'invest', 'government', 'coin', 'startup', 'creativeminds', 'btc', 'investment', 'tech', 'neo', 'fintech', 'technology', 'business', 'visualmarketing', 'cryptocurrency', 'bitcoin', 'motivation', 'entrepreneur', 'forex', 'trading', 'anonymous', 'lab', 'ethereum', 'mining', 'digital', 'xrp', 'trade', 'crypto', 'innovation', 'greatawakening', 'investing', 'money', 'anarchy', 'blockchain', 'beautiful', 'america', 'ripple', 'newyork', 'anon', 'decentralize', 'bitcoinmining', 'future', 'fashion', 'wealth', 'altcoin', 'trx']}\n",
      "{'_id': 3319720975, 'count': 9038, 'unique_tags': ['deals', 'argentina', 'korea', 'initialcoinofferings', 'sqpay', 'milwaukee', 'moscow', 'malaysia', 'omaha', 'iconomi', 'seattle', 'denver', 'phoenix', 'virginiabeach', 'brazil', 'memphis', 'waves', 'avcjjapan', 'zloadr', 'netherlands', 'platform', 'bitcoinaustralia', 'atlanta', 'bancor', 'sandeigo', 'miv', 'godblessamerica', 'newyork', 'money', 'portland', 'tezos', 'oakland', 'boise', 'kickstarter', 'orlando', 'iot', 'chicago', 'funds', 'crypto', 'venturecapital', 'newzealand', 'bitshares', 'avcj', 'tokensales', 'gamecoin', 'austin', 'equity', 'minneapolis', 'startups', 'indianapolis', 'mexico', 'coin', 'alibaba', 'asia', 'fintech', 'neworleans', 'sydney', 'ether', 'bitcoinuk', 'cryptocurrency', 'columbus', 'oklahomacity', 'softbank', 'charleston', 'detroit', 'investing', 'campaign', 'cuba', 'raleigh', 'entrepreneurship', 'melbourne', 'losangels', 'cybersecurity', 'louiesville', 'miami', 'london', 'investments', 'abraaj', 'bitcoinrussia', 'sale', 'eth', 'russia', 'investment', 'ardor', 'washington', 'chille', 'madison', 'jackma', 'pittsburgh', 'italy', 'avcjsingapore', 'stratis', 'paris', 'france', 'icotracker', 'kansascity', 'entrepreneurs', 'baltimore', 'btc', 'top10', 'crowdfunding', 'uk', 'bitcoin', 'india', 'dubai', 'comsa', 'sanjose', 'privateequity', 'technews', 'perth', 'preicosale', 'nem', 'cannabis', 'dallas', 'singapore', 'boston', 'tech', 'canberra', 'tokenlaunches', 'charlotte', 'uae', 'adelaide', 'washingtondc', 'tokenmarket', 'cleveland', 'ethereum', 'germany', 'itos', 'honolulu', 'reuters', 'lasvegas', 'venture', 'tampa', 'startup', 'sanantonio', 'philadelphia', 'tokyo', 'blockchain', 'vc', 'fund', 'utrust', 'bonus', 'techcrunch', 'status', 'saltlakecity', 'saintpaul', 'tucson', 'wavesplatform', 'spain', 'houston', 'kualalumpur', 'ico', 'token', 'forthworth', 'albuquerque', 'icos', 'sanfransico', 'icoalert', 'southafrica', 'funding', 'nashville', 'oxycoin', 'stlouis', 'avcjkorea', 'indiegogo', 'southaustralia', 'china']}\n",
      "{'_id': 929740814657441792, 'count': 8671, 'unique_tags': ['wilmslow', 'atherstone', 'welwyngardencity', 'al8', 'bishopscastle', 'walsall', 'corsham', 'witney', 'sutton', 'chichester', 'aviemore', 'hampshire', 'warton', 'hemelhempstead', 'bedfordshire', 'northamptonshire', 'burgesshill', 'lewes', 'borehamwood', 'greaterlondon', 'northampton', 'crawley', 'ipswich', 'brentwood', 'bicester', 'huntingdon', 'easthorsley', 'mongodb', 'malvern', 'weybridge', 'stevenage', 'southwestengland', 'automation', 'ellesmereport', 'swindon', 'warwickshire', 'teddington', 'hinxton', 'york', 'eastbourne', 'somerset', 'wetherby', 'reigate', 'bridgwater', 'javascript', 'belfast', 'burystedmunds', 'basildon', 'farnham', 'm30', 'salford', 'oxford', 'leeds', 'west', 'southwestlondon', 'de75', 'basingstoke', 'liverpool', 'bigdata', 'slough', 'middlesbrough', 'telford', 'surrey', 'eastlondon', 'ealing', 'coventry', 'nottingham', 'warrington', 'manchester', 'gloucester', 'chester', 'st', 'bristol', 'database', 'skipton', 'tadworth', 'bembridge', 'guildford', 'artificialintelligence', 'westyorkshire', 'westlondon', 'hertfordshire', 'centrallondon', 'rugby', 'newport', 'twitterlockout', 'stockport', 'cowley', 'northshields', 'blockchain', 'lancashire', 'london', 'brighton', 'hadoop', 'cardiff', 'hiring', 'east', 'jobs', 'westheath', 'careers', 'se17', 'php', 'city', 'uk', 'developers', 'cryptocurrency', 'berkshire', 'haywardsheath', 'developer', 'preston', 'brentford', 'croydon', 'ascot', 'machinelearning', 'edinburgh', 'sittingbourne', 'norwich', 'bath', 'cheshunt', 'westminster', 'cheshire', 'bridgend', 'cityandcountyofthecityoflondon', 'glasgow', 'derby', 'python', 'wednesdaywisdom', 'newbury', 'maidenhead', 'exeter', 'birmingham', 'merseyside', 'hull', 'woking', 'newcastleupontyne', 'hatfield', 'windsor', 'southeastlondon', 'highwycombe', 'durham', 'antrim', 'reading', 'stamford', 'horsham', 'buryst', 'southampton', 'ruby', 'chelmsford', 'portsmouth', 'nodejs', 'miltonkeynes', 'ch66', 'datascience', 'middlesex', 'aldershot', 'solr', 'luton', 'dunstable', 'runcorn', 'cityoflondon', 'lowestoft', 'leicestershire', 'thame', 'northwestlondon', 'aberdeen', 'shipley', 'bromsgrove', 'cheltenham', 'cambridge', 'oxfordshire']}\n",
      "{'_id': 909009874498940928, 'count': 8206, 'unique_tags': ['nano', 'part', 'crypto', 'ethereum', 'club', 'bigdata', 'cryptolife', 'cryptocurrency', 'tokens', 'bitcoin', 'litecoin', 'masternodes', 'amb', 'maid', 'ico', 'eth', 'cryptomemes', 'erc20', 'crowdsale', 'mining', 'game', 'vtr', 'poa', 'vib', 'signals', 'blockchain', 'lbc', 'rsi', 'ant', 'altcoin', 'smartcontract', 'adt', 'dapp', 'trading', 'block', 'ai', 'btc', 'fintech', 'mod', 'altcoins', 'bitcoins', 'bitcointalk', 'tokensale', 'cloak', 'trx', 'sls', 'bitb', 'decentralized']}\n",
      "{'_id': 926222961190764546, 'count': 8097, 'unique_tags': ['stockton', 'boston', 'automation', 'liverpool', 'bigdata', 'worcester', 'london', 'oxford', 'node', 'bristol', 'hook', 'staines', 'harrogate', 'southwestlondon', 'leeds', 'westlinton', 'se17', 'php', 'maidstone', 'python', 'bracknell', 'belfast', 'fareham', 'barnsgreen', 'wokingham', 'blockchain', 'careers', 'basingstoke', 'hiring', 'twitterlockout', 'northampton', 'machinelearning_', 'robotics', 'havant', 'developer', 'welwyn', 'chorley', 'developers', 'uk', 'farnham', 'lambeth', 'birmingham', 'city', 'artificialintelligence', 'berkshire', 'ai', 'bath', 'javascript', 'united', 'crewe', 'pontyclun', 'cheshire', 'southampton', 'ruby', 'brighton', 'rotherham', 'reading', 'richmond', 'aijobs', 'surrey', 'dorset', 'england', 'machinelearning', 'edinburgh', 'southeastlondon', 'cityandcountyofthecityoflondon', 'glasgow', 'kidlington', 'walsall', 'york', 'gloucester', 'manchester', 'jobs', 'wrexham', 'beckenham', 'maidenhead', 'wednesdaywisdom', 'newbury', 'miltonkeynes', 'nodejs', 'greaterlondon', 'sct', 'cryptocurrency', 'amersham', 'knaresborough', 'n16bllondonengland', 'mk16', 'telford', 'slough', 'cambridge', 'oxfordshire', 'norfolk', 'bletchley', 'kent', 'malvern', 'centrallondon', 'farnborough', 'solr']}\n"
     ]
    }
   ],
   "source": [
    "min_occur = 5\n",
    "\n",
    "pipeline = [\n",
    "    {\"$unwind\": \"$hashtags\"},\n",
    "    {\"$group\": {\"_id\": \"$user_id\", \"count\": {\"$sum\": 1},\"unique_tags\":{\"$addToSet\":\"$hashtags\"}}},\n",
    "    {\"$sort\": SON([(\"count\", -1), (\"_id\", 1)])},\n",
    "    {\"$limit\": 20}\n",
    "#    {\"$match\": {\"count\":{\"$gte\":min_occur}}},\n",
    "#    {\"$group\": {\"_id\":\"All\", \"tag_count\":{\"$sum\":1}}}\n",
    "]\n",
    "\n",
    "for val in tags.aggregate(pipeline):\n",
    "    print (val)"
   ]
  },
  {
   "cell_type": "markdown",
   "metadata": {},
   "source": [
    "#### Count Tweets Per User"
   ]
  },
  {
   "cell_type": "code",
   "execution_count": 51,
   "metadata": {
    "ExecuteTime": {
     "end_time": "2018-03-07T04:11:37.025679Z",
     "start_time": "2018-03-07T04:11:36.087913Z"
    }
   },
   "outputs": [
    {
     "name": "stdout",
     "output_type": "stream",
     "text": [
      "{'_id': 206789872, 'count': 6284}\n",
      "{'_id': 3875339716, 'count': 6283}\n",
      "{'_id': 962552795382640640, 'count': 3682}\n",
      "{'_id': 625289155, 'count': 3399}\n",
      "{'_id': 2376007850, 'count': 3258}\n",
      "{'_id': 860579049822978048, 'count': 2667}\n",
      "{'_id': 834454513989873664, 'count': 2642}\n",
      "{'_id': 947249111551627264, 'count': 2135}\n",
      "{'_id': 4786271613, 'count': 2093}\n",
      "{'_id': 4839382570, 'count': 1798}\n",
      "{'_id': 629172295, 'count': 1661}\n",
      "{'_id': 901112028663877632, 'count': 1657}\n",
      "{'_id': 2276587183, 'count': 1547}\n",
      "{'_id': 947417939208232960, 'count': 1535}\n",
      "{'_id': 887569510277959685, 'count': 1498}\n",
      "{'_id': 898184056738914304, 'count': 1404}\n",
      "{'_id': 965579953696894977, 'count': 1404}\n",
      "{'_id': 633161048, 'count': 1399}\n",
      "{'_id': 941606472298958848, 'count': 1391}\n",
      "{'_id': 126255031, 'count': 1389}\n"
     ]
    }
   ],
   "source": [
    "min_occur = 5\n",
    "\n",
    "pipeline = [\n",
    "    {\"$group\": {\"_id\": \"$user_id\", \"count\": {\"$sum\": 1}}},\n",
    "    {\"$sort\": SON([(\"count\", -1), (\"_id\", 1)])},\n",
    "    {\"$limit\": 20}\n",
    "#    {\"$match\": {\"count\":{\"$gte\":min_occur}}},\n",
    "#    {\"$group\": {\"_id\":\"All\", \"tag_count\":{\"$sum\":1}}}\n",
    "]\n",
    "\n",
    "for val in tags.aggregate(pipeline):\n",
    "    print (val)"
   ]
  },
  {
   "cell_type": "markdown",
   "metadata": {},
   "source": [
    "#### Count Distinct Users"
   ]
  },
  {
   "cell_type": "code",
   "execution_count": 47,
   "metadata": {
    "ExecuteTime": {
     "end_time": "2018-03-07T04:10:15.305749Z",
     "start_time": "2018-03-07T04:10:12.694936Z"
    }
   },
   "outputs": [
    {
     "name": "stdout",
     "output_type": "stream",
     "text": [
      "{'_id': 'All', 'user_count': 103775}\n"
     ]
    }
   ],
   "source": [
    "min_occur = 5\n",
    "\n",
    "pipeline = [\n",
    "    {\"$unwind\": \"$hashtags\"},\n",
    "    {\"$group\": {\"_id\": \"$user_id\", \"count\": {\"$sum\": 1}}},\n",
    "    {\"$sort\": SON([(\"count\", -1), (\"_id\", 1)])},\n",
    "    {\"$match\": {\"count\":{\"$gte\":min_occur}}},\n",
    "    {\"$group\": {\"_id\":\"All\", \"user_count\":{\"$sum\":1}}},\n",
    "]\n",
    "\n",
    "for val in tags.aggregate(pipeline):\n",
    "    print (val)"
   ]
  },
  {
   "cell_type": "code",
   "execution_count": null,
   "metadata": {},
   "outputs": [],
   "source": []
  }
 ],
 "metadata": {
  "kernelspec": {
   "display_name": "Python 3",
   "language": "python",
   "name": "python3"
  },
  "language_info": {
   "codemirror_mode": {
    "name": "ipython",
    "version": 3
   },
   "file_extension": ".py",
   "mimetype": "text/x-python",
   "name": "python",
   "nbconvert_exporter": "python",
   "pygments_lexer": "ipython3",
   "version": "3.6.4"
  },
  "toc": {
   "nav_menu": {},
   "number_sections": false,
   "sideBar": true,
   "skip_h1_title": true,
   "title_cell": "Table of Contents",
   "title_sidebar": "Contents",
   "toc_cell": false,
   "toc_position": {
    "height": "657px",
    "left": "0px",
    "right": "1197.83px",
    "top": "111px",
    "width": "148px"
   },
   "toc_section_display": false,
   "toc_window_display": true
  },
  "varInspector": {
   "cols": {
    "lenName": 16,
    "lenType": 16,
    "lenVar": 40
   },
   "kernels_config": {
    "python": {
     "delete_cmd_postfix": "",
     "delete_cmd_prefix": "del ",
     "library": "var_list.py",
     "varRefreshCmd": "print(var_dic_list())"
    },
    "r": {
     "delete_cmd_postfix": ") ",
     "delete_cmd_prefix": "rm(",
     "library": "var_list.r",
     "varRefreshCmd": "cat(var_dic_list()) "
    }
   },
   "types_to_exclude": [
    "module",
    "function",
    "builtin_function_or_method",
    "instance",
    "_Feature"
   ],
   "window_display": false
  }
 },
 "nbformat": 4,
 "nbformat_minor": 2
}
