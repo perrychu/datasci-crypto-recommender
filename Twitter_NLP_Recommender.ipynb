{
 "cells": [
  {
   "cell_type": "markdown",
   "metadata": {},
   "source": [
    "# Tag Modeling"
   ]
  },
  {
   "cell_type": "markdown",
   "metadata": {},
   "source": [
    "## Import packages"
   ]
  },
  {
   "cell_type": "code",
   "execution_count": 613,
   "metadata": {
    "ExecuteTime": {
     "end_time": "2018-03-09T10:27:26.510082Z",
     "start_time": "2018-03-09T10:27:26.503768Z"
    }
   },
   "outputs": [],
   "source": [
    "import pandas as pd\n",
    "import numpy as np\n",
    "from pymongo import MongoClient\n",
    "import re\n",
    "import matplotlib.pyplot as plt\n",
    "import matplotlib.ticker as ticker\n",
    "import random\n",
    "\n",
    "from sklearn.model_selection import train_test_split\n",
    "\n",
    "from sklearn.feature_extraction.text import CountVectorizer, TfidfVectorizer\n",
    "from sklearn.decomposition import NMF\n",
    "from sklearn.utils.extmath import randomized_svd\n",
    "#from gensim import corpora, models, similarities, matutils"
   ]
  },
  {
   "cell_type": "markdown",
   "metadata": {},
   "source": [
    "## Mongo Connection"
   ]
  },
  {
   "cell_type": "code",
   "execution_count": 468,
   "metadata": {
    "ExecuteTime": {
     "end_time": "2018-03-09T09:20:20.210230Z",
     "start_time": "2018-03-09T09:20:20.206487Z"
    }
   },
   "outputs": [],
   "source": [
    "client = MongoClient(port=27017)\n",
    "db = client.crypto\n",
    "tags = db.tweets_tags"
   ]
  },
  {
   "cell_type": "code",
   "execution_count": 471,
   "metadata": {
    "ExecuteTime": {
     "end_time": "2018-03-09T09:20:36.295908Z",
     "start_time": "2018-03-09T09:20:36.292499Z"
    }
   },
   "outputs": [
    {
     "data": {
      "text/plain": [
       "{'_id': ObjectId('5a9609c51b9d8f0a7da9b4b6'),\n",
       " 'created_at': 'Wed Feb 28 01:45:41 +0000 2018',\n",
       " 'hashtags': ['iheartawards', 'bestboyband', 'bts', 'hixtape_d2'],\n",
       " 'symbols': [],\n",
       " 'text': '6 love for my @BTS_twt #iHeartAwards #BestBoyBand #BTS\\n\\n#HIXTAPE_D2',\n",
       " 'truncated': False,\n",
       " 'tweet_id': 968663465328979968,\n",
       " 'user_id': 919788170195038208,\n",
       " 'user_name': 'Istri Sah Jin'}"
      ]
     },
     "execution_count": 471,
     "metadata": {},
     "output_type": "execute_result"
    }
   ],
   "source": [
    "tags.find_one({\"hashtags\":\"iheartawards\"})"
   ]
  },
  {
   "cell_type": "markdown",
   "metadata": {},
   "source": [
    "## Tweets - Tags"
   ]
  },
  {
   "cell_type": "markdown",
   "metadata": {},
   "source": [
    "### Load Data Sample"
   ]
  },
  {
   "cell_type": "code",
   "execution_count": 4,
   "metadata": {
    "ExecuteTime": {
     "end_time": "2018-03-08T22:11:21.944189Z",
     "start_time": "2018-03-08T22:11:21.941232Z"
    }
   },
   "outputs": [],
   "source": [
    "def preprocess_text(string):\n",
    "    pass\n",
    "    #re.compile()"
   ]
  },
  {
   "cell_type": "code",
   "execution_count": 5,
   "metadata": {
    "ExecuteTime": {
     "end_time": "2018-03-08T22:11:31.005672Z",
     "start_time": "2018-03-08T22:11:21.945959Z"
    }
   },
   "outputs": [
    {
     "data": {
      "text/html": [
       "<div>\n",
       "<style scoped>\n",
       "    .dataframe tbody tr th:only-of-type {\n",
       "        vertical-align: middle;\n",
       "    }\n",
       "\n",
       "    .dataframe tbody tr th {\n",
       "        vertical-align: top;\n",
       "    }\n",
       "\n",
       "    .dataframe thead th {\n",
       "        text-align: right;\n",
       "    }\n",
       "</style>\n",
       "<table border=\"1\" class=\"dataframe\">\n",
       "  <thead>\n",
       "    <tr style=\"text-align: right;\">\n",
       "      <th></th>\n",
       "      <th>tags</th>\n",
       "      <th>user</th>\n",
       "    </tr>\n",
       "  </thead>\n",
       "  <tbody>\n",
       "    <tr>\n",
       "      <th>0</th>\n",
       "      <td>[healthonblockchain, blockchain, trustedhealth]</td>\n",
       "      <td>97085375</td>\n",
       "    </tr>\n",
       "    <tr>\n",
       "      <th>1</th>\n",
       "      <td>[iheartawards, bestboyband, bts]</td>\n",
       "      <td>892499334935191553</td>\n",
       "    </tr>\n",
       "    <tr>\n",
       "      <th>2</th>\n",
       "      <td>[ltc, burst, ngc, fct, bts, bsd, club, nuls, s...</td>\n",
       "      <td>903166399593549824</td>\n",
       "    </tr>\n",
       "    <tr>\n",
       "      <th>3</th>\n",
       "      <td>[pumpkinpay, blockchain, ico, cryptobountyprog...</td>\n",
       "      <td>1648807310</td>\n",
       "    </tr>\n",
       "    <tr>\n",
       "      <th>4</th>\n",
       "      <td>[iheartawards, bestboyband, bts]</td>\n",
       "      <td>960793649859608577</td>\n",
       "    </tr>\n",
       "  </tbody>\n",
       "</table>\n",
       "</div>"
      ],
      "text/plain": [
       "                                                tags                user\n",
       "0    [healthonblockchain, blockchain, trustedhealth]            97085375\n",
       "1                   [iheartawards, bestboyband, bts]  892499334935191553\n",
       "2  [ltc, burst, ngc, fct, bts, bsd, club, nuls, s...  903166399593549824\n",
       "3  [pumpkinpay, blockchain, ico, cryptobountyprog...          1648807310\n",
       "4                   [iheartawards, bestboyband, bts]  960793649859608577"
      ]
     },
     "execution_count": 5,
     "metadata": {},
     "output_type": "execute_result"
    }
   ],
   "source": [
    "sample_size = 200000\n",
    "data = []\n",
    "\n",
    "for x in tags.aggregate([{\"$sample\":{\"size\":sample_size}}], allowDiskUse = True):\n",
    "    row = {}\n",
    "    row[\"user\"] = x[\"user_id\"]\n",
    "    row[\"tags\"] = list(set(x[\"hashtags\"] + x[\"symbols\"]))\n",
    "#    row[\"text_raw\"] = x[\"text\"]\n",
    "#    row[\"text_clean\"] = preprocess(x[\"text\"])\n",
    "    data.append(row)\n",
    "\n",
    "df = pd.DataFrame(data)\n",
    "\n",
    "df.head()\n",
    "    "
   ]
  },
  {
   "cell_type": "markdown",
   "metadata": {},
   "source": [
    "### TFIDF"
   ]
  },
  {
   "cell_type": "code",
   "execution_count": 6,
   "metadata": {
    "ExecuteTime": {
     "end_time": "2018-03-08T22:11:32.022333Z",
     "start_time": "2018-03-08T22:11:31.007351Z"
    }
   },
   "outputs": [],
   "source": [
    "vectorizer = TfidfVectorizer(tokenizer = (lambda i:i),\n",
    "                             lowercase=False,\n",
    "                             max_df = 0.7,\n",
    "                             min_df = 5\n",
    "                            )\n",
    "tfidf_vecs = vectorizer.fit_transform(df.tags)"
   ]
  },
  {
   "cell_type": "code",
   "execution_count": 7,
   "metadata": {
    "ExecuteTime": {
     "end_time": "2018-03-08T22:11:32.027136Z",
     "start_time": "2018-03-08T22:11:32.023856Z"
    }
   },
   "outputs": [
    {
     "name": "stdout",
     "output_type": "stream",
     "text": [
      "(200000, 5585)\n",
      "5585 20642\n"
     ]
    }
   ],
   "source": [
    "print(tfidf_vecs.shape)\n",
    "print(len(vectorizer.vocabulary_),len(vectorizer.stop_words_))"
   ]
  },
  {
   "cell_type": "markdown",
   "metadata": {},
   "source": [
    "### NMF"
   ]
  },
  {
   "cell_type": "code",
   "execution_count": 8,
   "metadata": {
    "ExecuteTime": {
     "end_time": "2018-03-08T22:11:38.583873Z",
     "start_time": "2018-03-08T22:11:32.028788Z"
    }
   },
   "outputs": [
    {
     "name": "stdout",
     "output_type": "stream",
     "text": [
      "Topic #0:\n",
      "[['bestboyband' '8.258270351610422']\n",
      " ['iheartawards' '8.180779246946756']\n",
      " ['bts' '7.943193977580659']\n",
      " ['thosfansbts4m' '0.26120819066450585']\n",
      " ['hopeworld' '0.2231865053205211']\n",
      " ['thosfansbts3m' '0.19369266384166114']\n",
      " ['bestfanarmy' '0.18424954219439776']\n",
      " ['btsarmy' '0.15601722316106414']\n",
      " ['jinday' '0.13272787547944515']\n",
      " ['thosfansbts1m' '0.11703415541258823']\n",
      " ['thosfansbts2m' '0.1043480891389902']\n",
      " ['thosfansbts28f' '0.09976560498659058']\n",
      " ['daydream' '0.08117320019317784']\n",
      " ['bts13m' '0.06159221504349682']\n",
      " ['hixtapeiscoming' '0.056122429096639975']]\n",
      "Topic #1:\n",
      "[['bitcoin' '12.999485195260176']\n",
      " ['news' '0.28802576390078977']\n",
      " ['ethereum' '0.1848347647604215']\n",
      " ['bitcoincash' '0.16919513126397792']\n",
      " ['litecoin' '0.1424507380845673']\n",
      " ['adk' '0.12495356757686911']\n",
      " ['aidoskuneen' '0.12493639607514637']\n",
      " ['cryptocurrencies' '0.11559696414444345']\n",
      " ['altcoins' '0.0936633939459045']\n",
      " ['altcoin' '0.08804633300476246']\n",
      " ['btcusd' '0.08483507539382489']\n",
      " ['trading' '0.07402124170027029']\n",
      " ['bch' '0.06458279727628691']\n",
      " ['faucet' '0.06446282594928017']\n",
      " ['bitcoinnews' '0.06345629628725373']]\n",
      "Topic #2:\n",
      "[['ethereum' '4.10991188950258']\n",
      " ['pumpkinpay' '3.8173171413528677']\n",
      " ['cryptobountyprogram' '3.8051060357550797']\n",
      " ['freetoke' '3.791955496073809']\n",
      " ['airdrop' '3.0101970613766094']\n",
      " ['ico' '2.958490438810339']\n",
      " ['blockchain' '0.4445456229058539']\n",
      " ['cryptocurrency' '0.31876949063208765']\n",
      " ['bi' '0.21560823578880198']\n",
      " ['eth' '0.1407581282220393']\n",
      " ['bitcoincash' '0.061301648474999956']\n",
      " ['bitcoin' '0.05986314336534011']\n",
      " ['tokensale' '0.04894241784156395']\n",
      " ['token' '0.04635433334449232']\n",
      " ['rinkeby' '0.03989192533574631']]\n",
      "Topic #3:\n",
      "[['btc' '8.895585834720706']\n",
      " ['eth' '0.869849049533327']\n",
      " ['ltc' '0.3767464355120025']\n",
      " ['telegramico' '0.3042941844658063']\n",
      " ['telegramcrowdsale' '0.30228556139315726']\n",
      " ['telegram' '0.2993632557576898']\n",
      " ['usd' '0.16174548447858858']\n",
      " ['btcusd' '0.14772992681842734']\n",
      " ['giveaway' '0.13678300830743803']\n",
      " ['bitcoinnews' '0.12823831722785492']\n",
      " ['altcoin' '0.12806950266637893']\n",
      " ['cryptocurrencynews' '0.11703966026941748']\n",
      " ['news' '0.11189249063340335']\n",
      " ['cryptonews' '0.10213876008280787']\n",
      " ['free' '0.09739347438721677']]\n",
      "Topic #4:\n",
      "[['cryptocurrency' '7.549637099167446']\n",
      " ['xnk' '0.4232269448629851']\n",
      " ['universalbasicincome' '0.29337920484479457']\n",
      " ['lino' '0.25654618210601665']\n",
      " ['linonetwork' '0.25451335247932855']\n",
      " ['airdrop' '0.16535428524295126']\n",
      " ['cannabis' '0.12080081032086933']\n",
      " ['litecoin' '0.10373597119409675']\n",
      " ['altcoin' '0.0869858079894774']\n",
      " ['altcoins' '0.08268476162327343']\n",
      " ['trading' '0.07654208013263415']\n",
      " ['giveaway' '0.0658175940017282']\n",
      " ['cryptonews' '0.06572968249432645']\n",
      " ['wednesdaywisdom' '0.06466988473086552']\n",
      " ['smokenetwork' '0.06390560830614453']]\n",
      "Topic #5:\n",
      "[['crypto' '7.404606971492984']\n",
      " ['news' '0.44471470854362627']\n",
      " ['aidoskuneen' '0.3283984701221862']\n",
      " ['adk' '0.32827988990560847']\n",
      " ['ethereum' '0.3138824903804889']\n",
      " ['altcoins' '0.22572817408027834']\n",
      " ['cannabis' '0.205998107230168']\n",
      " ['altcoin' '0.19931517722313938']\n",
      " ['eth' '0.16865116275219325']\n",
      " ['ico' '0.1608686045632307']\n",
      " ['crowdfunding' '0.1269152080005982']\n",
      " ['stocks' '0.1023593234357058']\n",
      " ['litecoin' '0.10053350160448216']\n",
      " ['cryptonews' '0.09975904431922858']\n",
      " ['giveaway' '0.09860693515429982']]\n",
      "Topic #6:\n",
      "[['blockchain' '7.183107863553729']\n",
      " ['ico' '0.40091061550209584']\n",
      " ['fintech' '0.3691140635098522']\n",
      " ['linonetwork' '0.25147602953081594']\n",
      " ['lino' '0.2508201991882895']\n",
      " ['tokensale' '0.2093659307243301']\n",
      " ['ai' '0.16307113112357247']\n",
      " ['obirum' '0.11943037951579574']\n",
      " ['iot' '0.11802293408731068']\n",
      " ['crowdfunding' '0.11261286784197365']\n",
      " ['cryptocurrencies' '0.10334240192031927']\n",
      " ['jobs' '0.1007206769427128']\n",
      " ['careers' '0.0999753479394002']\n",
      " ['hiring' '0.09913387443926805']\n",
      " ['tiqpit' '0.09894864239238536']]\n",
      "Topic #7:\n",
      "[['eth' '3.5173724083693156']\n",
      " ['ltc' '2.973582880503404']\n",
      " ['xrp' '2.5099285820838255']\n",
      " ['neo' '1.7951986315952226']\n",
      " ['trx' '1.6544678763175518']\n",
      " ['xlm' '1.3763605255020384']\n",
      " ['xvg' '1.376132231664146']\n",
      " ['ripple' '1.3132092138896556']\n",
      " ['ada' '1.2797054344438037']\n",
      " ['xrb' '0.9337812126441822']\n",
      " ['eos' '0.9241675424934424']\n",
      " ['tron' '0.8378106313961421']\n",
      " ['verge' '0.8053164855555504']\n",
      " ['xmr' '0.7926623357102313']\n",
      " ['gto' '0.770649985349185']]\n",
      "Topic #8:\n",
      "[['cybersecurity' '6.9515374381162855']\n",
      " ['bitcoin' '0.46950236020840336']\n",
      " ['infosec' '0.044198167240445695']\n",
      " ['iot' '0.03535016911970036']\n",
      " ['fintech' '0.03101913151620111']\n",
      " ['ai' '0.026271653579548984']\n",
      " ['bigdata' '0.018677076432499367']\n",
      " ['privacy' '0.01663551142744529']\n",
      " ['datascience' '0.012058838492956775']\n",
      " ['security' '0.011788213478250103']\n",
      " ['malware' '0.011494678122562062']\n",
      " ['cyberdomain' '0.010630350228846763']\n",
      " ['iiot' '0.010230513530536714']\n",
      " ['tech' '0.007891431592557726']\n",
      " ['innovation' '0.007443295734670644']]\n",
      "Topic #9:\n",
      "[['airdrop' '2.735563844345275']\n",
      " ['ico' '2.6892322187850075']\n",
      " ['erc20' '2.0791867303111022']\n",
      " ['tokens' '2.072340258153814']\n",
      " ['sohu' '1.58788851666823']\n",
      " ['sohuworld' '1.5855215861484904']\n",
      " ['bounty' '1.0975467413592725']\n",
      " ['fintech' '0.8368402139890824']\n",
      " ['tiqpit' '0.78594566673284']\n",
      " ['commodity' '0.7848048056696664']\n",
      " ['genechainplus' '0.6408193460041604']\n",
      " ['lino' '0.46421231721743095']\n",
      " ['linonetwork' '0.4612599447123663']\n",
      " ['tokensale' '0.31113884198645203']\n",
      " ['token' '0.27297779122226096']]\n"
     ]
    }
   ],
   "source": [
    "num_top_words = 15\n",
    "\n",
    "nmf = NMF(n_components=10)\n",
    "nmf_vecs = nmf.fit_transform(tfidf_vecs)\n",
    "\n",
    "def print_top_words(model, feature_names, n_top_words):\n",
    "    for topic_idx, topic in enumerate(model.components_):\n",
    "        print(\"Topic #%d:\" % topic_idx)\n",
    "        print(np.reshape([(feature_names[i], topic[i])\n",
    "                for i in topic.argsort()[:-n_top_words - 1:-1]], (-1//2,2)))\n",
    "\n",
    "# def print_top_words(model, feature_names, n_top_words):\n",
    "#     for topic_idx, topic in enumerate(model.components_):\n",
    "#         print(\"Topic #%d:\" % topic_idx)\n",
    "#         print([(feature_names[i], topic[i]) for i in topic.argsort()[:-n_top_words - 1:-1]])        \n",
    "        \n",
    "print_top_words(nmf, vectorizer.get_feature_names(), num_top_words)"
   ]
  },
  {
   "cell_type": "markdown",
   "metadata": {
    "ExecuteTime": {
     "end_time": "2018-03-08T18:55:46.604237Z",
     "start_time": "2018-03-08T18:55:46.561649Z"
    }
   },
   "source": [
    "## Users - Tags"
   ]
  },
  {
   "cell_type": "markdown",
   "metadata": {},
   "source": [
    "### Load Data Sample"
   ]
  },
  {
   "cell_type": "code",
   "execution_count": 721,
   "metadata": {
    "ExecuteTime": {
     "end_time": "2018-03-09T12:22:06.277457Z",
     "start_time": "2018-03-09T12:22:05.667673Z"
    }
   },
   "outputs": [
    {
     "name": "stdout",
     "output_type": "stream",
     "text": [
      "927335\n",
      "689175\n"
     ]
    }
   ],
   "source": [
    "print(tags.count())\n",
    "print(tags.count({\"hashtags\":{\"$ne\":\"iheartawards\"}}))"
   ]
  },
  {
   "cell_type": "code",
   "execution_count": 722,
   "metadata": {
    "ExecuteTime": {
     "end_time": "2018-03-09T12:28:45.384144Z",
     "start_time": "2018-03-09T12:27:36.233969Z"
    }
   },
   "outputs": [
    {
     "name": "stdout",
     "output_type": "stream",
     "text": [
      "5564525\n"
     ]
    },
    {
     "data": {
      "text/html": [
       "<div>\n",
       "<style scoped>\n",
       "    .dataframe tbody tr th:only-of-type {\n",
       "        vertical-align: middle;\n",
       "    }\n",
       "\n",
       "    .dataframe tbody tr th {\n",
       "        vertical-align: top;\n",
       "    }\n",
       "\n",
       "    .dataframe thead th {\n",
       "        text-align: right;\n",
       "    }\n",
       "</style>\n",
       "<table border=\"1\" class=\"dataframe\">\n",
       "  <thead>\n",
       "    <tr style=\"text-align: right;\">\n",
       "      <th></th>\n",
       "      <th>tag</th>\n",
       "      <th>tweet</th>\n",
       "      <th>user</th>\n",
       "      <th>user_name</th>\n",
       "    </tr>\n",
       "  </thead>\n",
       "  <tbody>\n",
       "    <tr>\n",
       "      <th>0</th>\n",
       "      <td>btc</td>\n",
       "      <td>968663454239350785</td>\n",
       "      <td>826395116483002368</td>\n",
       "      <td>someone somewhere</td>\n",
       "    </tr>\n",
       "    <tr>\n",
       "      <th>1</th>\n",
       "      <td>bitcoincash</td>\n",
       "      <td>968663454239350785</td>\n",
       "      <td>826395116483002368</td>\n",
       "      <td>someone somewhere</td>\n",
       "    </tr>\n",
       "    <tr>\n",
       "      <th>2</th>\n",
       "      <td>bitcoin</td>\n",
       "      <td>968663454239350785</td>\n",
       "      <td>826395116483002368</td>\n",
       "      <td>someone somewhere</td>\n",
       "    </tr>\n",
       "    <tr>\n",
       "      <th>3</th>\n",
       "      <td>ether</td>\n",
       "      <td>968663454239350785</td>\n",
       "      <td>826395116483002368</td>\n",
       "      <td>someone somewhere</td>\n",
       "    </tr>\n",
       "    <tr>\n",
       "      <th>4</th>\n",
       "      <td>ethereum</td>\n",
       "      <td>968663454239350785</td>\n",
       "      <td>826395116483002368</td>\n",
       "      <td>someone somewhere</td>\n",
       "    </tr>\n",
       "    <tr>\n",
       "      <th>5</th>\n",
       "      <td>crypto</td>\n",
       "      <td>968663454239350785</td>\n",
       "      <td>826395116483002368</td>\n",
       "      <td>someone somewhere</td>\n",
       "    </tr>\n",
       "    <tr>\n",
       "      <th>6</th>\n",
       "      <td>cryptocurrency</td>\n",
       "      <td>968663454239350785</td>\n",
       "      <td>826395116483002368</td>\n",
       "      <td>someone somewhere</td>\n",
       "    </tr>\n",
       "    <tr>\n",
       "      <th>7</th>\n",
       "      <td>solar</td>\n",
       "      <td>968663455510261760</td>\n",
       "      <td>892805453180174336</td>\n",
       "      <td>Jeff</td>\n",
       "    </tr>\n",
       "    <tr>\n",
       "      <th>8</th>\n",
       "      <td>michigan</td>\n",
       "      <td>968663455510261760</td>\n",
       "      <td>892805453180174336</td>\n",
       "      <td>Jeff</td>\n",
       "    </tr>\n",
       "    <tr>\n",
       "      <th>9</th>\n",
       "      <td>solarpower</td>\n",
       "      <td>968663455510261760</td>\n",
       "      <td>892805453180174336</td>\n",
       "      <td>Jeff</td>\n",
       "    </tr>\n",
       "  </tbody>\n",
       "</table>\n",
       "</div>"
      ],
      "text/plain": [
       "              tag               tweet                user          user_name\n",
       "0             btc  968663454239350785  826395116483002368  someone somewhere\n",
       "1     bitcoincash  968663454239350785  826395116483002368  someone somewhere\n",
       "2         bitcoin  968663454239350785  826395116483002368  someone somewhere\n",
       "3           ether  968663454239350785  826395116483002368  someone somewhere\n",
       "4        ethereum  968663454239350785  826395116483002368  someone somewhere\n",
       "5          crypto  968663454239350785  826395116483002368  someone somewhere\n",
       "6  cryptocurrency  968663454239350785  826395116483002368  someone somewhere\n",
       "7           solar  968663455510261760  892805453180174336               Jeff\n",
       "8        michigan  968663455510261760  892805453180174336               Jeff\n",
       "9      solarpower  968663455510261760  892805453180174336               Jeff"
      ]
     },
     "execution_count": 722,
     "metadata": {},
     "output_type": "execute_result"
    }
   ],
   "source": [
    "sample_size = 900000\n",
    "data = []\n",
    "\n",
    "pipeline = [#{\"$sample\":{\"size\":sample_size}},\n",
    "            {\"$project\": {\"tweet_id\":1, \"user_id\":1, \"user_name\":1, \"tags\":{\"$concatArrays\":[\"$hashtags\",\"$symbols\"]}}},\n",
    "            {\"$match\": {\"tags\":{\"$ne\":\"iheartawards\"}}},\n",
    "            {\"$match\": {\"tags\":{\"$ne\":\"bestboyband\"}}},\n",
    "            {\"$unwind\":\"$tags\"}\n",
    "           ]\n",
    "\n",
    "for x in tags.aggregate(pipeline, allowDiskUse = True):\n",
    "    row = {}\n",
    "    row[\"tweet\"]= x[\"tweet_id\"]\n",
    "    row[\"user\"] = x[\"user_id\"]\n",
    "    row[\"user_name\"] = x[\"user_name\"]\n",
    "    row[\"tag\"] = x[\"tags\"]\n",
    "#    row[\"text_raw\"] = x[\"text\"]\n",
    "#    row[\"text_clean\"] = preprocess(x[\"text\"])\n",
    "    data.append(row)\n",
    "\n",
    "df = pd.DataFrame(data)\n",
    "\n",
    "del data\n",
    "\n",
    "print(len(df))\n",
    "df.head(10)"
   ]
  },
  {
   "cell_type": "markdown",
   "metadata": {},
   "source": [
    "### User Stats"
   ]
  },
  {
   "cell_type": "code",
   "execution_count": 723,
   "metadata": {
    "ExecuteTime": {
     "end_time": "2018-03-09T12:30:37.856749Z",
     "start_time": "2018-03-09T12:30:23.366152Z"
    }
   },
   "outputs": [
    {
     "name": "stdout",
     "output_type": "stream",
     "text": [
      "Averages:\n",
      " tags 46.51, unique tags 10.43, unique tweets 5.69, per unique 3.00, per tweet 6.15\n",
      "\n",
      "Total Users: 119642\n",
      "\n",
      "Users with only x tweets:\n",
      "1 8760\n",
      "2 19927\n",
      "3 28964\n",
      "4 35370\n",
      "5 43319\n",
      "6 49965\n",
      "7 54366\n",
      "8 58467\n",
      "9 72847\n",
      "\n",
      "                     tag_count  tag_nunique  tweet_nunique  per_uniquetag  \\\n",
      "user                                                                       \n",
      "629172295               56609          186           1653         304.35   \n",
      "901112028663877632      56507          186           1654         303.80   \n",
      "909009874498940928      28459          293           1089          97.13   \n",
      "941606472298958848      23646           48           1383         492.62   \n",
      "941607752518045697      23529           48           1257         490.19   \n",
      "941224119835688960      22517           48           1240         469.10   \n",
      "126255031               22119           22           1384        1005.41   \n",
      "951025335876902912      15940           35            502         455.43   \n",
      "947417939208232960      15006          353           1519          42.51   \n",
      "962552795382640640      14728            4           3662        3682.00   \n",
      "\n",
      "                    per_tweet  \n",
      "user                           \n",
      "629172295               34.25  \n",
      "901112028663877632      34.16  \n",
      "909009874498940928      26.13  \n",
      "941606472298958848      17.10  \n",
      "941607752518045697      18.72  \n",
      "941224119835688960      18.16  \n",
      "126255031               15.98  \n",
      "951025335876902912      31.75  \n",
      "947417939208232960       9.88  \n",
      "962552795382640640       4.02  \n",
      "\n",
      " 10960 141\n",
      "                    tag_count  tag_nunique  tweet_nunique  per_uniquetag  \\\n",
      "user                                                                       \n",
      "967463548975747072       1244            1           1220         1244.0   \n",
      "736956852764835841        752            1            751          752.0   \n",
      "2206353751                718            1            717          718.0   \n",
      "906645086221545474        588            1            587          588.0   \n",
      "1633906866                252            1            251          252.0   \n",
      "4068437015                240            1            240          240.0   \n",
      "115984922                 712            1            236          712.0   \n",
      "954797101564809218        474            1            235          474.0   \n",
      "1323280062                225            1            223          225.0   \n",
      "901098486422228993        215            1            212          215.0   \n",
      "\n",
      "                    per_tweet  \n",
      "user                           \n",
      "967463548975747072       1.02  \n",
      "736956852764835841       1.00  \n",
      "2206353751               1.00  \n",
      "906645086221545474       1.00  \n",
      "1633906866               1.00  \n",
      "4068437015               1.00  \n",
      "115984922                3.02  \n",
      "954797101564809218       2.02  \n",
      "1323280062               1.01  \n",
      "901098486422228993       1.01  \n"
     ]
    }
   ],
   "source": [
    "df_user_stats = df.groupby(by=[\"user\"]).agg({\"tag\":[\"count\",\"nunique\"],\n",
    "                                 \"tweet\":\"nunique\"})\n",
    "df_user_stats.columns = ['_'.join(col).strip() for col in df_user_stats.columns.values]\n",
    "df_user_stats[\"per_uniquetag\"] = round(df_user_stats.tag_count / df_user_stats.tag_nunique,2)\n",
    "df_user_stats[\"per_tweet\"] = round(df_user_stats.tag_count / df_user_stats.tweet_nunique,2)\n",
    "\n",
    "print (\"Averages:\\n tags {:.2f}, unique tags {:.2f}, unique tweets {:.2f}, per unique {:.2f}, per tweet {:.2f}\" \\\n",
    "       .format(df_user_stats.tag_count.mean(), \n",
    "               df_user_stats.tag_nunique.mean(), \n",
    "               df_user_stats.tweet_nunique.mean(), \n",
    "               df_user_stats.per_uniquetag.mean(),\n",
    "               df_user_stats.per_tweet.mean()))\n",
    "\n",
    "print(\"\\nTotal Users:\",len(df_user_stats))\n",
    "\n",
    "print(\"\\nUsers with only x tweets:\")\n",
    "for i in range (1,10):\n",
    "    print(i,np.sum(df_user_stats.tag_count<=i))\n",
    "\n",
    "print(\"\\n\",df_user_stats.sort_values(\"tag_count\",ascending=False).head(10))\n",
    "\n",
    "print(\"\\n\",\n",
    "      len(df_user_stats[df_user_stats.tag_nunique==1]),\n",
    "      len(df_user_stats[(df_user_stats.tag_nunique==1)&(df_user_stats.tag_count>=25)])\n",
    "     )\n",
    "print(df_user_stats[df_user_stats.tag_nunique==1].sort_values(\"tweet_nunique\",ascending=False).head(10))"
   ]
  },
  {
   "cell_type": "markdown",
   "metadata": {},
   "source": [
    "### Tags Stats"
   ]
  },
  {
   "cell_type": "code",
   "execution_count": 724,
   "metadata": {
    "ExecuteTime": {
     "end_time": "2018-03-09T12:30:41.894657Z",
     "start_time": "2018-03-09T12:30:38.687346Z"
    }
   },
   "outputs": [
    {
     "name": "stdout",
     "output_type": "stream",
     "text": [
      "Averages:\n",
      " users 96.04, unique users 21.54, unique tweets 93.24, users per unique 2.47, users per tweet 1.01\n",
      "\n",
      "Total Tags: 57940\n",
      "\n",
      "Tags with only x tweets:\n",
      "1 29876\n",
      "2 37873\n",
      "3 41680\n",
      "4 43976\n",
      "5 45637\n",
      "6 46858\n",
      "7 47811\n",
      "8 48593\n",
      "9 49229\n",
      "\n",
      "                      user_count  user_nunique  tweet_nunique  per_uniqueuser  \\\n",
      "tag                                                                            \n",
      "blockchain               170926         55374         168487            3.09   \n",
      "cryptocurrency           167138         53536         164994            3.12   \n",
      "bitcoin                  215307         52605         210111            4.09   \n",
      "ico                      111870         43037         110191            2.60   \n",
      "airdrop                   85187         41069          83096            2.07   \n",
      "ethereum                  95410         37265          92863            2.56   \n",
      "btc                      148873         31631         130104            4.71   \n",
      "crypto                   131209         31080         128496            4.22   \n",
      "pumpkinpay                29463         26783          29403            1.10   \n",
      "cryptobountyprogram       29329         26777          29270            1.10   \n",
      "\n",
      "                     per_tweet  \n",
      "tag                             \n",
      "blockchain                1.01  \n",
      "cryptocurrency            1.01  \n",
      "bitcoin                   1.02  \n",
      "ico                       1.02  \n",
      "airdrop                   1.03  \n",
      "ethereum                  1.03  \n",
      "btc                       1.14  \n",
      "crypto                    1.02  \n",
      "pumpkinpay                1.00  \n",
      "cryptobountyprogram       1.00  \n"
     ]
    },
    {
     "data": {
      "text/html": [
       "<div>\n",
       "<style scoped>\n",
       "    .dataframe tbody tr th:only-of-type {\n",
       "        vertical-align: middle;\n",
       "    }\n",
       "\n",
       "    .dataframe tbody tr th {\n",
       "        vertical-align: top;\n",
       "    }\n",
       "\n",
       "    .dataframe thead th {\n",
       "        text-align: right;\n",
       "    }\n",
       "</style>\n",
       "<table border=\"1\" class=\"dataframe\">\n",
       "  <thead>\n",
       "    <tr style=\"text-align: right;\">\n",
       "      <th></th>\n",
       "      <th>user_count</th>\n",
       "      <th>user_nunique</th>\n",
       "      <th>tweet_nunique</th>\n",
       "      <th>per_uniqueuser</th>\n",
       "      <th>per_tweet</th>\n",
       "    </tr>\n",
       "    <tr>\n",
       "      <th>tag</th>\n",
       "      <th></th>\n",
       "      <th></th>\n",
       "      <th></th>\n",
       "      <th></th>\n",
       "      <th></th>\n",
       "    </tr>\n",
       "  </thead>\n",
       "  <tbody>\n",
       "    <tr>\n",
       "      <th>0100conferences</th>\n",
       "      <td>1</td>\n",
       "      <td>1</td>\n",
       "      <td>1</td>\n",
       "      <td>1.0</td>\n",
       "      <td>1.0</td>\n",
       "    </tr>\n",
       "    <tr>\n",
       "      <th>02marzo</th>\n",
       "      <td>3</td>\n",
       "      <td>2</td>\n",
       "      <td>3</td>\n",
       "      <td>1.5</td>\n",
       "      <td>1.0</td>\n",
       "    </tr>\n",
       "    <tr>\n",
       "      <th>0301wonhoday</th>\n",
       "      <td>9</td>\n",
       "      <td>3</td>\n",
       "      <td>9</td>\n",
       "      <td>3.0</td>\n",
       "      <td>1.0</td>\n",
       "    </tr>\n",
       "    <tr>\n",
       "      <th>03marzo</th>\n",
       "      <td>1</td>\n",
       "      <td>1</td>\n",
       "      <td>1</td>\n",
       "      <td>1.0</td>\n",
       "      <td>1.0</td>\n",
       "    </tr>\n",
       "    <tr>\n",
       "      <th>05x2617</th>\n",
       "      <td>1</td>\n",
       "      <td>1</td>\n",
       "      <td>1</td>\n",
       "      <td>1.0</td>\n",
       "      <td>1.0</td>\n",
       "    </tr>\n",
       "  </tbody>\n",
       "</table>\n",
       "</div>"
      ],
      "text/plain": [
       "                 user_count  user_nunique  tweet_nunique  per_uniqueuser  \\\n",
       "tag                                                                        \n",
       "0100conferences           1             1              1             1.0   \n",
       "02marzo                   3             2              3             1.5   \n",
       "0301wonhoday              9             3              9             3.0   \n",
       "03marzo                   1             1              1             1.0   \n",
       "05x2617                   1             1              1             1.0   \n",
       "\n",
       "                 per_tweet  \n",
       "tag                         \n",
       "0100conferences        1.0  \n",
       "02marzo                1.0  \n",
       "0301wonhoday           1.0  \n",
       "03marzo                1.0  \n",
       "05x2617                1.0  "
      ]
     },
     "execution_count": 724,
     "metadata": {},
     "output_type": "execute_result"
    }
   ],
   "source": [
    "df_tag_stats = df.groupby(by=[\"tag\"]).agg({\"user\":[\"count\",\"nunique\"],\n",
    "                                 \"tweet\":\"nunique\"})\n",
    "df_tag_stats.columns = ['_'.join(col).strip() for col in df_tag_stats.columns.values]\n",
    "df_tag_stats[\"per_uniqueuser\"] = round(df_tag_stats.user_count / df_tag_stats.user_nunique,2)\n",
    "df_tag_stats[\"per_tweet\"] = round(df_tag_stats.user_count / df_tag_stats.tweet_nunique,2)\n",
    "\n",
    "print (\"Averages:\\n users {:.2f}, unique users {:.2f}, unique tweets {:.2f}, users per unique {:.2f}, users per tweet {:.2f}\" \\\n",
    "       .format(df_tag_stats.user_count.mean(), \n",
    "               df_tag_stats.user_nunique.mean(), \n",
    "               df_tag_stats.tweet_nunique.mean(), \n",
    "               df_tag_stats.per_uniqueuser.mean(),\n",
    "               df_tag_stats.per_tweet.mean()))\n",
    "\n",
    "print(\"\\nTotal Tags:\",len(df_tag_stats))\n",
    "\n",
    "print(\"\\nTags with only x tweets:\")\n",
    "for i in range (1,10):\n",
    "    print(i,np.sum(df_tag_stats.user_count<=i))\n",
    "        \n",
    "print(\"\\n\",df_tag_stats.sort_values(\"user_nunique\",ascending=False).head(10))\n",
    "\n",
    "df_tag_stats.head()"
   ]
  },
  {
   "cell_type": "markdown",
   "metadata": {},
   "source": [
    "### User - Tag Interactions"
   ]
  },
  {
   "cell_type": "code",
   "execution_count": 732,
   "metadata": {
    "ExecuteTime": {
     "end_time": "2018-03-09T12:32:24.726317Z",
     "start_time": "2018-03-09T12:32:24.687035Z"
    }
   },
   "outputs": [
    {
     "name": "stdout",
     "output_type": "stream",
     "text": [
      "min frequency 9.0\n",
      "excluding 58467 users 48593 tags\n"
     ]
    }
   ],
   "source": [
    "# Calculate users and tags with too few interactions to include\n",
    "# Interaction is per tag per tweet per user...\n",
    "# Tags can be used by one or many users in one or many tweets\n",
    "# Users this can be one or many tags in one or many tweets\n",
    "min_frequency = sample_size*.00001 #.001%\n",
    "\n",
    "print(\"min frequency\",min_frequency)\n",
    "\n",
    "users_exclude = df_user_stats[df_user_stats.tag_count < min_frequency].reset_index().user\n",
    "tags_exclude = df_tag_stats[df_tag_stats.user_count < min_frequency].reset_index().tag\n",
    "\n",
    "print(\"excluding\", len(users_exclude), \"users\", len(tags_exclude), \"tags\")\n",
    "\n",
    "df_tag_stats_final = df_tag_stats.reset_index()\n",
    "df_tag_stats_final = df_tag_stats_final[~df_tag_stats_final.tag.isin(tags_exclude)].reset_index(drop=True)\n",
    "\n",
    "#df_tag_stats_final\n",
    "\n",
    "#del df_tag_stats\n",
    "#del df_user_stats"
   ]
  },
  {
   "cell_type": "code",
   "execution_count": 733,
   "metadata": {
    "ExecuteTime": {
     "end_time": "2018-03-09T12:32:33.141877Z",
     "start_time": "2018-03-09T12:32:28.496543Z"
    },
    "scrolled": false
   },
   "outputs": [
    {
     "name": "stdout",
     "output_type": "stream",
     "text": [
      "988777\n"
     ]
    },
    {
     "data": {
      "text/html": [
       "<div>\n",
       "<style scoped>\n",
       "    .dataframe tbody tr th:only-of-type {\n",
       "        vertical-align: middle;\n",
       "    }\n",
       "\n",
       "    .dataframe tbody tr th {\n",
       "        vertical-align: top;\n",
       "    }\n",
       "\n",
       "    .dataframe thead th {\n",
       "        text-align: right;\n",
       "    }\n",
       "</style>\n",
       "<table border=\"1\" class=\"dataframe\">\n",
       "  <thead>\n",
       "    <tr style=\"text-align: right;\">\n",
       "      <th></th>\n",
       "      <th>user</th>\n",
       "      <th>tag</th>\n",
       "      <th>tag_count</th>\n",
       "      <th>tweet_nunique</th>\n",
       "    </tr>\n",
       "  </thead>\n",
       "  <tbody>\n",
       "    <tr>\n",
       "      <th>475158</th>\n",
       "      <td>909009874498940928</td>\n",
       "      <td>btc</td>\n",
       "      <td>8405</td>\n",
       "      <td>1088</td>\n",
       "    </tr>\n",
       "    <tr>\n",
       "      <th>66113</th>\n",
       "      <td>206789872</td>\n",
       "      <td>bitcoin</td>\n",
       "      <td>6284</td>\n",
       "      <td>6263</td>\n",
       "    </tr>\n",
       "    <tr>\n",
       "      <th>301255</th>\n",
       "      <td>3875339716</td>\n",
       "      <td>cybersecurity</td>\n",
       "      <td>6283</td>\n",
       "      <td>6269</td>\n",
       "    </tr>\n",
       "    <tr>\n",
       "      <th>301254</th>\n",
       "      <td>3875339716</td>\n",
       "      <td>bitcoin</td>\n",
       "      <td>6283</td>\n",
       "      <td>6269</td>\n",
       "    </tr>\n",
       "    <tr>\n",
       "      <th>66115</th>\n",
       "      <td>206789872</td>\n",
       "      <td>cybersecurity</td>\n",
       "      <td>6270</td>\n",
       "      <td>6250</td>\n",
       "    </tr>\n",
       "  </tbody>\n",
       "</table>\n",
       "</div>"
      ],
      "text/plain": [
       "                      user            tag  tag_count  tweet_nunique\n",
       "475158  909009874498940928            btc       8405           1088\n",
       "66113            206789872        bitcoin       6284           6263\n",
       "301255          3875339716  cybersecurity       6283           6269\n",
       "301254          3875339716        bitcoin       6283           6269\n",
       "66115            206789872  cybersecurity       6270           6250"
      ]
     },
     "execution_count": 733,
     "metadata": {},
     "output_type": "execute_result"
    }
   ],
   "source": [
    "#'Tidy' User-Tag Interactions DF \n",
    "df_data = df[(~df.user.isin(users_exclude)) & (~df.tag.isin(tags_exclude))]\n",
    "\n",
    "df_data = df_data.groupby(by=[\"user\",\"tag\"]).agg({\"tag\":[\"count\"],\"tweet\":\"nunique\"})\n",
    "\n",
    "df_data.columns = ['_'.join(col).strip() for col in df_data.columns.values]\n",
    "\n",
    "df_data.reset_index(inplace=True)\n",
    "\n",
    "print(len(df_data))\n",
    "\n",
    "df_data.sort_values(\"tag_count\",ascending=False).head()\n",
    "#df[df.user==909009874498940928]\n",
    "#\"https://twitter.com/CoinSignalBot\"\n"
   ]
  },
  {
   "cell_type": "markdown",
   "metadata": {},
   "source": [
    "### User - Tag Matrix"
   ]
  },
  {
   "cell_type": "code",
   "execution_count": 734,
   "metadata": {
    "ExecuteTime": {
     "end_time": "2018-03-09T12:32:54.121533Z",
     "start_time": "2018-03-09T12:32:42.161490Z"
    }
   },
   "outputs": [
    {
     "name": "stdout",
     "output_type": "stream",
     "text": [
      "(61174, 9338)\n"
     ]
    },
    {
     "data": {
      "text/html": [
       "<div>\n",
       "<style scoped>\n",
       "    .dataframe tbody tr th:only-of-type {\n",
       "        vertical-align: middle;\n",
       "    }\n",
       "\n",
       "    .dataframe tbody tr th {\n",
       "        vertical-align: top;\n",
       "    }\n",
       "\n",
       "    .dataframe thead th {\n",
       "        text-align: right;\n",
       "    }\n",
       "</style>\n",
       "<table border=\"1\" class=\"dataframe\">\n",
       "  <thead>\n",
       "    <tr style=\"text-align: right;\">\n",
       "      <th>tag</th>\n",
       "      <th>0301wonhoday</th>\n",
       "      <th>0655pm</th>\n",
       "      <th>0doubt</th>\n",
       "      <th>0ex</th>\n",
       "      <th>0ov</th>\n",
       "      <th>0ps</th>\n",
       "      <th>0x</th>\n",
       "      <th>100daysofcode</th>\n",
       "      <th>1080ti</th>\n",
       "      <th>10x</th>\n",
       "      <th>...</th>\n",
       "      <th>진</th>\n",
       "      <th>크립트레이드캐피탈</th>\n",
       "      <th>태태</th>\n",
       "      <th>태형</th>\n",
       "      <th>푸마</th>\n",
       "      <th>푸마대리구매</th>\n",
       "      <th>호비</th>\n",
       "      <th>호석</th>\n",
       "      <th>홉이</th>\n",
       "      <th>효정</th>\n",
       "    </tr>\n",
       "    <tr>\n",
       "      <th>user</th>\n",
       "      <th></th>\n",
       "      <th></th>\n",
       "      <th></th>\n",
       "      <th></th>\n",
       "      <th></th>\n",
       "      <th></th>\n",
       "      <th></th>\n",
       "      <th></th>\n",
       "      <th></th>\n",
       "      <th></th>\n",
       "      <th></th>\n",
       "      <th></th>\n",
       "      <th></th>\n",
       "      <th></th>\n",
       "      <th></th>\n",
       "      <th></th>\n",
       "      <th></th>\n",
       "      <th></th>\n",
       "      <th></th>\n",
       "      <th></th>\n",
       "      <th></th>\n",
       "    </tr>\n",
       "  </thead>\n",
       "  <tbody>\n",
       "    <tr>\n",
       "      <th>1585</th>\n",
       "      <td>0.0</td>\n",
       "      <td>0.0</td>\n",
       "      <td>0.0</td>\n",
       "      <td>0.0</td>\n",
       "      <td>0.0</td>\n",
       "      <td>0.0</td>\n",
       "      <td>0.0</td>\n",
       "      <td>0.0</td>\n",
       "      <td>0.0</td>\n",
       "      <td>0.0</td>\n",
       "      <td>...</td>\n",
       "      <td>0.0</td>\n",
       "      <td>0.0</td>\n",
       "      <td>0.0</td>\n",
       "      <td>0.0</td>\n",
       "      <td>0.0</td>\n",
       "      <td>0.0</td>\n",
       "      <td>0.0</td>\n",
       "      <td>0.0</td>\n",
       "      <td>0.0</td>\n",
       "      <td>0.0</td>\n",
       "    </tr>\n",
       "    <tr>\n",
       "      <th>7237</th>\n",
       "      <td>0.0</td>\n",
       "      <td>0.0</td>\n",
       "      <td>0.0</td>\n",
       "      <td>0.0</td>\n",
       "      <td>0.0</td>\n",
       "      <td>0.0</td>\n",
       "      <td>0.0</td>\n",
       "      <td>0.0</td>\n",
       "      <td>0.0</td>\n",
       "      <td>0.0</td>\n",
       "      <td>...</td>\n",
       "      <td>0.0</td>\n",
       "      <td>0.0</td>\n",
       "      <td>0.0</td>\n",
       "      <td>0.0</td>\n",
       "      <td>0.0</td>\n",
       "      <td>0.0</td>\n",
       "      <td>0.0</td>\n",
       "      <td>0.0</td>\n",
       "      <td>0.0</td>\n",
       "      <td>0.0</td>\n",
       "    </tr>\n",
       "    <tr>\n",
       "      <th>12924</th>\n",
       "      <td>0.0</td>\n",
       "      <td>0.0</td>\n",
       "      <td>0.0</td>\n",
       "      <td>0.0</td>\n",
       "      <td>0.0</td>\n",
       "      <td>0.0</td>\n",
       "      <td>0.0</td>\n",
       "      <td>0.0</td>\n",
       "      <td>0.0</td>\n",
       "      <td>0.0</td>\n",
       "      <td>...</td>\n",
       "      <td>0.0</td>\n",
       "      <td>0.0</td>\n",
       "      <td>0.0</td>\n",
       "      <td>0.0</td>\n",
       "      <td>0.0</td>\n",
       "      <td>0.0</td>\n",
       "      <td>0.0</td>\n",
       "      <td>0.0</td>\n",
       "      <td>0.0</td>\n",
       "      <td>0.0</td>\n",
       "    </tr>\n",
       "    <tr>\n",
       "      <th>16193</th>\n",
       "      <td>0.0</td>\n",
       "      <td>0.0</td>\n",
       "      <td>0.0</td>\n",
       "      <td>0.0</td>\n",
       "      <td>0.0</td>\n",
       "      <td>0.0</td>\n",
       "      <td>0.0</td>\n",
       "      <td>0.0</td>\n",
       "      <td>0.0</td>\n",
       "      <td>0.0</td>\n",
       "      <td>...</td>\n",
       "      <td>0.0</td>\n",
       "      <td>0.0</td>\n",
       "      <td>0.0</td>\n",
       "      <td>0.0</td>\n",
       "      <td>0.0</td>\n",
       "      <td>0.0</td>\n",
       "      <td>0.0</td>\n",
       "      <td>0.0</td>\n",
       "      <td>0.0</td>\n",
       "      <td>0.0</td>\n",
       "    </tr>\n",
       "    <tr>\n",
       "      <th>230923</th>\n",
       "      <td>0.0</td>\n",
       "      <td>0.0</td>\n",
       "      <td>0.0</td>\n",
       "      <td>0.0</td>\n",
       "      <td>0.0</td>\n",
       "      <td>0.0</td>\n",
       "      <td>0.0</td>\n",
       "      <td>0.0</td>\n",
       "      <td>0.0</td>\n",
       "      <td>0.0</td>\n",
       "      <td>...</td>\n",
       "      <td>0.0</td>\n",
       "      <td>0.0</td>\n",
       "      <td>0.0</td>\n",
       "      <td>0.0</td>\n",
       "      <td>0.0</td>\n",
       "      <td>0.0</td>\n",
       "      <td>0.0</td>\n",
       "      <td>0.0</td>\n",
       "      <td>0.0</td>\n",
       "      <td>0.0</td>\n",
       "    </tr>\n",
       "  </tbody>\n",
       "</table>\n",
       "<p>5 rows × 9338 columns</p>\n",
       "</div>"
      ],
      "text/plain": [
       "tag     0301wonhoday  0655pm  0doubt  0ex  0ov  0ps   0x  100daysofcode  \\\n",
       "user                                                                      \n",
       "1585             0.0     0.0     0.0  0.0  0.0  0.0  0.0            0.0   \n",
       "7237             0.0     0.0     0.0  0.0  0.0  0.0  0.0            0.0   \n",
       "12924            0.0     0.0     0.0  0.0  0.0  0.0  0.0            0.0   \n",
       "16193            0.0     0.0     0.0  0.0  0.0  0.0  0.0            0.0   \n",
       "230923           0.0     0.0     0.0  0.0  0.0  0.0  0.0            0.0   \n",
       "\n",
       "tag     1080ti  10x ...     진  크립트레이드캐피탈   태태   태형   푸마  푸마대리구매   호비   호석  \\\n",
       "user                ...                                                     \n",
       "1585       0.0  0.0 ...   0.0        0.0  0.0  0.0  0.0     0.0  0.0  0.0   \n",
       "7237       0.0  0.0 ...   0.0        0.0  0.0  0.0  0.0     0.0  0.0  0.0   \n",
       "12924      0.0  0.0 ...   0.0        0.0  0.0  0.0  0.0     0.0  0.0  0.0   \n",
       "16193      0.0  0.0 ...   0.0        0.0  0.0  0.0  0.0     0.0  0.0  0.0   \n",
       "230923     0.0  0.0 ...   0.0        0.0  0.0  0.0  0.0     0.0  0.0  0.0   \n",
       "\n",
       "tag      홉이   효정  \n",
       "user              \n",
       "1585    0.0  0.0  \n",
       "7237    0.0  0.0  \n",
       "12924   0.0  0.0  \n",
       "16193   0.0  0.0  \n",
       "230923  0.0  0.0  \n",
       "\n",
       "[5 rows x 9338 columns]"
      ]
     },
     "execution_count": 734,
     "metadata": {},
     "output_type": "execute_result"
    }
   ],
   "source": [
    "user_tag_df_full = df_data.pivot(index=\"user\",columns=\"tag\",values=\"tag_count\")\n",
    "\n",
    "user_tag_df_full.fillna(0,inplace=True)\n",
    "\n",
    "print(user_tag_df_full.shape)\n",
    "\n",
    "user_tag_df_full.head()"
   ]
  },
  {
   "cell_type": "code",
   "execution_count": 735,
   "metadata": {
    "ExecuteTime": {
     "end_time": "2018-03-09T12:32:56.696975Z",
     "start_time": "2018-03-09T12:32:55.295784Z"
    },
    "scrolled": true
   },
   "outputs": [
    {
     "name": "stdout",
     "output_type": "stream",
     "text": [
      "48939 12235\n"
     ]
    }
   ],
   "source": [
    "user_tag_df, user_tag_df_holdout = train_test_split(user_tag_df_full,test_size=.2,shuffle=True,random_state = 1)\n",
    "\n",
    "del user_tag_df_full\n",
    "\n",
    "print(len(user_tag_df),len(user_tag_df_holdout))"
   ]
  },
  {
   "cell_type": "markdown",
   "metadata": {},
   "source": [
    "## Recommenders"
   ]
  },
  {
   "cell_type": "markdown",
   "metadata": {},
   "source": [
    "### SVD"
   ]
  },
  {
   "cell_type": "code",
   "execution_count": 758,
   "metadata": {
    "ExecuteTime": {
     "end_time": "2018-03-09T17:24:15.280634Z",
     "start_time": "2018-03-09T17:24:05.290681Z"
    },
    "scrolled": true
   },
   "outputs": [
    {
     "data": {
      "image/png": "[encoded data removed]",
      "text/plain": [
       "<matplotlib.figure.Figure at 0x7f6e62233c18>"
      ]
     },
     "metadata": {},
     "output_type": "display_data"
    }
   ],
   "source": [
    "#adapted from:\n",
    "#    kaggle.com/gspmoreira/recommender-systems-in-python-101\n",
    "#    [...]/week07-fletcher/04-recommenders/simple_SVD_recommender.ipynb\n",
    "\n",
    "user_tag_matrix = user_tag_df.as_matrix()\n",
    "user_ids = list(user_tag_df.index)\n",
    "\n",
    "U, Sigma_flat, VT = randomized_svd(user_tag_matrix, n_components=100)\n",
    "Sigma = np.diag(Sigma_flat)\n",
    "\n",
    "\n",
    "fig, ax = plt.subplots(figsize=(10,4))\n",
    "ax.xaxis.set_major_locator(ticker.MultipleLocator(5))\n",
    "ax.plot(range(1,len(Sigma_flat)+1),Sigma_flat)\n",
    "plt.show()"
   ]
  },
  {
   "cell_type": "code",
   "execution_count": 759,
   "metadata": {
    "ExecuteTime": {
     "end_time": "2018-03-09T17:24:34.573865Z",
     "start_time": "2018-03-09T17:24:30.400363Z"
    }
   },
   "outputs": [],
   "source": [
    "U, Sigma_flat, VT = randomized_svd(user_tag_matrix, n_components=13)\n",
    "Sigma = np.diag(Sigma_flat)"
   ]
  },
  {
   "cell_type": "code",
   "execution_count": 760,
   "metadata": {
    "ExecuteTime": {
     "end_time": "2018-03-09T17:24:34.914716Z",
     "start_time": "2018-03-09T17:24:34.912279Z"
    }
   },
   "outputs": [
    {
     "name": "stdout",
     "output_type": "stream",
     "text": [
      "(48939, 13) (13, 13) (13, 9338)\n"
     ]
    }
   ],
   "source": [
    "print (U.shape, Sigma.shape, VT.shape)"
   ]
  },
  {
   "cell_type": "markdown",
   "metadata": {},
   "source": [
    "### SVD Recommender"
   ]
  },
  {
   "cell_type": "code",
   "execution_count": 761,
   "metadata": {
    "ExecuteTime": {
     "end_time": "2018-03-09T17:24:35.529798Z",
     "start_time": "2018-03-09T17:24:35.251908Z"
    },
    "scrolled": true
   },
   "outputs": [],
   "source": [
    "def cos_sim(a,b):\n",
    "    '''Cosine similarity: (dot product)/(norm(a)*norm(b))'''\n",
    "    dot = np.dot(a,b)\n",
    "    return dot / (np.linalg.norm(a)*np.linalg.norm(b))\n",
    "\n",
    "class SVD_Rec():\n",
    "    def __init__ (self,U=None,Sigma=None,VT=None,df=None,similar_users=5, similar_items=10):\n",
    "        self._U=U\n",
    "        self._Sigma=Sigma\n",
    "        self._VT=VT\n",
    "        self._df=df\n",
    "        self._similar_users = similar_users\n",
    "        self._similar_items = similar_items\n",
    "\n",
    "    def recommend_from_item(self, itemID, VSig=None, num_recom=None):\n",
    "        if VSig is None:\n",
    "            VSig = np.dot(self._VT.T,self._Sigma)\n",
    "        if num_recom is None:\n",
    "            num_recom = self._similar_items\n",
    "        \n",
    "        recs = []\n",
    "        for item in range(VSig.shape[0]):\n",
    "            if item != itemID:\n",
    "                recs.append([item,cos_sim(VSig[itemID],VSig[item])])\n",
    "        final_rec = [i[0] for i in sorted(recs,key=lambda x: x[1],reverse=True)]\n",
    "        return final_rec[:num_recom]\n",
    "\n",
    "        \n",
    "    def make_item_array(self,tags_dict, df=None):\n",
    "        if df is None:\n",
    "            df=self._df\n",
    "        row = pd.Series(0, index=df.columns)\n",
    "        for k,v in tags_dict.items():\n",
    "            if k in df.columns:\n",
    "                row[k] = v\n",
    "        return row\n",
    "\n",
    "    def recommend_from_user_tags(self, tags_dict, U=None, Sigma=None, VT=None, df=None):\n",
    "        if U is None:\n",
    "            U=self._U\n",
    "        if Sigma is None:\n",
    "            Sigma=self._Sigma\n",
    "        if VT is None:\n",
    "            VT=self._VT\n",
    "        if df is None:\n",
    "            df=self._df\n",
    "        user_df = self.make_item_array(tags_dict,df)\n",
    "        user_vec = np.dot(user_df,VT.T)\n",
    "        return self.recommend_from_user(\"new\", np.dot(U,Sigma), df, user_vec, user_df,detail=False)\n",
    "\n",
    "    \n",
    "    def compile_recs(self,comp_users, df, input_user_row):\n",
    "        \n",
    "        recs = {}\n",
    "        \n",
    "        for comp_user in comp_users:            \n",
    "            #Get items liked by the similar user, return those which the input user hasn't liked\n",
    "            rec_likes = df.iloc[comp_user[0]]\n",
    "            input_likes = input_user_row\n",
    "            for i,item in enumerate(input_likes):\n",
    "                if item == 0 and rec_likes[i]!=0:\n",
    "                    if i in recs:\n",
    "                        recs[i] = (recs[i][0]+rec_likes[i],recs[i][1])\n",
    "                    else:\n",
    "                        recs[i] = (rec_likes[i],rec_likes.index[i])\n",
    "        return [(k,v[0],v[1]) for k,v in recs.items()]\n",
    "    \n",
    "    def recommend_from_user(self, userID, USig=None, df=None,user_vec=None,user_df_row=None,detail=True):\n",
    "        if USig is None:\n",
    "            USig=np.dot(self._U,self._Sigma)\n",
    "        if df is None:\n",
    "            df=self._df\n",
    "        \n",
    "        #Fill in user vec if not given\n",
    "        if user_vec is None:\n",
    "            user_vec = USig[userID]\n",
    "        if user_df_row is None:\n",
    "            user_df_row = df.iloc[userID]\n",
    "\n",
    "        #Get SVD model users by similarity to user_vec\n",
    "        userrecs = []\n",
    "        for row in range(USig.shape[0]):\n",
    "            userrecs.append([row, cos_sim(user_vec,USig[row])])\n",
    "        final_rec = [i for i in sorted(userrecs,key=lambda x: x[1],reverse=True)]\n",
    "        #print(final_rec)\n",
    "\n",
    "        # Skip matches that are ~exact (within float tolerance). \n",
    "        # Might be equal & we want some diversity\n",
    "        i = 0 \n",
    "        while (final_rec[i][1] >= 0.99999999):\n",
    "            i+=1\n",
    "        similar_user_list = final_rec[i:i+self._similar_users]\n",
    "        if detail==True:\n",
    "#            print(\"User %s's most similar user is User #%s, (%s) \"% (userID, similar_user_list[0],similar_user_list[1]))\n",
    "            print(\"User %s's most similar users are:\"%userID, similar_user_list)\n",
    "            \n",
    "        recs = self.compile_recs(similar_user_list, df, user_df_row)\n",
    "                \n",
    "        #return sorted(recs,key=lambda x: x[1],reverse=True)                    \n",
    "        return [x[2] for x in sorted(recs,key=lambda x: x[1],reverse=True)]\n",
    "    \n"
   ]
  },
  {
   "cell_type": "code",
   "execution_count": 762,
   "metadata": {
    "ExecuteTime": {
     "end_time": "2018-03-09T17:24:37.368400Z",
     "start_time": "2018-03-09T17:24:35.867466Z"
    }
   },
   "outputs": [
    {
     "name": "stdout",
     "output_type": "stream",
     "text": [
      "Items similar to item 5: [2318, 4684, 4900, 4753, 1092, 4982, 1087, 4, 2862, 4779] \n",
      "\n"
     ]
    },
    {
     "name": "stderr",
     "output_type": "stream",
     "text": [
      "/home/perry/anaconda3/lib/python3.6/site-packages/ipykernel_launcher.py:4: RuntimeWarning: invalid value encountered in double_scalars\n",
      "  after removing the cwd from sys.path.\n"
     ]
    },
    {
     "name": "stdout",
     "output_type": "stream",
     "text": [
      "User 800's most similar users are: [[14197, 0.9999999417839656], [21476, 0.9999999417839656], [11114, 0.9999999416514953], [25373, 0.9999999416514953], [26336, 0.9999894003849866]]\n",
      "Items for User 800 to check out:  ['ivether', 'ivethertokens', 'bittrex', 'poloniex']\n"
     ]
    }
   ],
   "source": [
    "svd_recommender = SVD_Rec(U,Sigma,VT,user_tag_df)    \n",
    "\n",
    "item_to_rec = 5\n",
    "print(\"Items similar to item {}:\".format(item_to_rec), svd_recommender.recommend_from_item(item_to_rec),\"\\n\")\n",
    "\n",
    "user_to_rec = 800\n",
    "print(\"Items for User %s to check out: \"% user_to_rec, svd_recommender.recommend_from_user(user_to_rec))"
   ]
  },
  {
   "cell_type": "code",
   "execution_count": 763,
   "metadata": {
    "ExecuteTime": {
     "end_time": "2018-03-09T17:24:38.628104Z",
     "start_time": "2018-03-09T17:24:37.710000Z"
    }
   },
   "outputs": [
    {
     "name": "stdout",
     "output_type": "stream",
     "text": [
      "New user with tags: {'btc': 3}\n",
      "Items for new user to check out:  ['es_f', 'ndx', 'spx', 'vix', 'amzn', 'btc.x', 'edit', 'theatre']\n"
     ]
    }
   ],
   "source": [
    "new_user_dict = {\"btc\":3}\n",
    "\n",
    "print(\"New user with tags:\",new_user_dict)\n",
    "print(\"Items for new user to check out: \", svd_recommender.recommend_from_user_tags(new_user_dict))\n",
    "\n",
    "#user_row = user_tag_df.iloc[1881]\n",
    "#user_row[user_row>0].sort_values(ascending=False)"
   ]
  },
  {
   "cell_type": "markdown",
   "metadata": {},
   "source": [
    "### Popularity Recommender"
   ]
  },
  {
   "cell_type": "code",
   "execution_count": 764,
   "metadata": {
    "ExecuteTime": {
     "end_time": "2018-03-09T17:24:38.996978Z",
     "start_time": "2018-03-09T17:24:38.967692Z"
    }
   },
   "outputs": [],
   "source": [
    "class Pop_Rec():\n",
    "    \n",
    "    def __init__ (self, tag_stats_df, similar_users=3, similar_items=10):\n",
    "        self._current_sort = \"user_nunique\"\n",
    "        self._df = tag_stats_df.sort_values(self._current_sort, ascending=False)\n",
    "        self._similar_users = similar_users\n",
    "        self._similar_items = similar_items\n",
    "    \n",
    "    def recommend(self, tags, sort_method = \"user_nunique\", n_recom = None):\n",
    "        '''Sort_method should be one of the columns (user_count  user_nunique  tweet_nunique)'''\n",
    "        if n_recom is None:\n",
    "            n_recom = self._similar_items\n",
    "        \n",
    "        if self._current_sort != sort_method:\n",
    "            self._df.sort_values(sort_method, ascending = False, inplace=True)\n",
    "            self.current_sort = sort_method\n",
    "        \n",
    "        count = 0\n",
    "        i = 0\n",
    "        recs = []\n",
    "        while count < n_recom:\n",
    "            tag = self._df[\"tag\"].iloc[i]\n",
    "            item = self._df.index[i]\n",
    "            if tag not in tags:\n",
    "                #recs.append((item,tag))\n",
    "                recs.append(tag)\n",
    "                count += 1\n",
    "                #print (tag, item, \"\\n\", self._df.iloc[i])\n",
    "            i += 1\n",
    "        return recs\n"
   ]
  },
  {
   "cell_type": "code",
   "execution_count": 765,
   "metadata": {
    "ExecuteTime": {
     "end_time": "2018-03-09T17:24:39.342177Z",
     "start_time": "2018-03-09T17:24:39.337382Z"
    }
   },
   "outputs": [
    {
     "data": {
      "text/plain": [
       "['blockchain',\n",
       " 'cryptocurrency',\n",
       " 'bitcoin',\n",
       " 'ico',\n",
       " 'airdrop',\n",
       " 'ethereum',\n",
       " 'btc',\n",
       " 'crypto',\n",
       " 'pumpkinpay',\n",
       " 'cryptobountyprogram']"
      ]
     },
     "execution_count": 765,
     "metadata": {},
     "output_type": "execute_result"
    }
   ],
   "source": [
    "pop_recommender = Pop_Rec(df_tag_stats_final)\n",
    "pop_recommender.recommend([\"bts\"])"
   ]
  },
  {
   "cell_type": "markdown",
   "metadata": {
    "ExecuteTime": {
     "end_time": "2018-03-09T11:25:03.951533Z",
     "start_time": "2018-03-09T11:12:38.296Z"
    }
   },
   "source": [
    "## Test"
   ]
  },
  {
   "cell_type": "markdown",
   "metadata": {},
   "source": [
    "### Score / Test"
   ]
  },
  {
   "cell_type": "code",
   "execution_count": 766,
   "metadata": {
    "ExecuteTime": {
     "end_time": "2018-03-09T20:32:02.470744Z",
     "start_time": "2018-03-09T17:24:49.222526Z"
    },
    "scrolled": true
   },
   "outputs": [
    {
     "name": "stdout",
     "output_type": "stream",
     "text": [
      "[False, False, True, True]\n",
      "1\n",
      "[0 0 1 1]\n",
      "[0. 0. 1. 1.]\n",
      "1001\n",
      "[503 592 482 663]\n",
      "[0.5024975  0.59140859 0.48151848 0.66233766]\n",
      "2001\n",
      "[ 986 1154  975 1324]\n",
      "[0.49275362 0.57671164 0.48725637 0.66166917]\n",
      "3001\n",
      "[1500 1740 1458 1986]\n",
      "[0.49983339 0.57980673 0.48583805 0.66177941]\n",
      "4001\n",
      "[2020 2325 1957 2655]\n",
      "[0.50487378 0.58110472 0.48912772 0.6635841 ]\n",
      "5001\n",
      "[2519 2899 2467 3326]\n",
      "[0.50369926 0.57968406 0.49330134 0.66506699]\n",
      "6001\n",
      "[3042 3483 2986 4018]\n",
      "[0.50691551 0.58040327 0.49758374 0.66955507]\n",
      "7001\n",
      "[3530 4044 3492 4680]\n",
      "[0.50421368 0.57763177 0.49878589 0.66847593]\n",
      "8001\n",
      "[4024 4611 3966 5330]\n",
      "[0.50293713 0.57630296 0.49568804 0.66616673]\n"
     ]
    },
    {
     "name": "stderr",
     "output_type": "stream",
     "text": [
      "/home/perry/anaconda3/lib/python3.6/site-packages/ipykernel_launcher.py:4: RuntimeWarning: invalid value encountered in double_scalars\n",
      "  after removing the cwd from sys.path.\n"
     ]
    },
    {
     "name": "stdout",
     "output_type": "stream",
     "text": [
      "9001\n",
      "[4496 5158 4467 6003]\n",
      "[0.49950006 0.57304744 0.49627819 0.6669259 ]\n",
      "10001\n",
      "[4965 5710 4996 6688]\n",
      "[0.49645035 0.57094291 0.49955004 0.66873313]\n",
      "11001\n",
      "[5461 6280 5490 7355]\n",
      "[0.49640942 0.57085719 0.49904554 0.66857558]\n",
      "12001\n",
      "[5948 6848 5988 8030]\n",
      "[0.49562536 0.57061912 0.49895842 0.66911091]\n",
      "--Final--\n",
      "[6011 6918 6057 8116]\n",
      "12127\n",
      "[0.49567082 0.5704626  0.49946401 0.66925043]\n"
     ]
    }
   ],
   "source": [
    "def row_score(new_user_df, pop_rec, svd_rec):\n",
    "    name = new_user_df.name\n",
    "    row = new_user_df.reset_index()\n",
    "    row = row[row[name]>0].reset_index(drop=True)\n",
    "    \n",
    "    num_tags = len(row)\n",
    "    if  num_tags == 1:\n",
    "        return None\n",
    "    \n",
    "    tag_dict = {}\n",
    "    test_index = random.randint(0,num_tags-1)\n",
    "    test_tag = \"\"\n",
    "    for i, val in row.iterrows():\n",
    "        if i==test_index:\n",
    "            test_tag = val[0]\n",
    "            continue\n",
    "        tag_dict[val[0]]=val[1]\n",
    "    \n",
    "    pop_10 = pop_rec.recommend(tag_dict.keys(),n_recom = 10)\n",
    "    svd_10 = svd_rec.recommend_from_user_tags(tag_dict)\n",
    "    \n",
    "#     print(test_tag)\n",
    "#     print(pop_10)\n",
    "#     print(svd_10)\n",
    "    \n",
    "    return [test_tag in pop_10[:5],\n",
    "            test_tag in pop_10[:],\n",
    "            test_tag in svd_10[:5],\n",
    "            test_tag in svd_10[:]]\n",
    "\n",
    "def holdout_scores(holdout_df, pop_rec, svd_rec):\n",
    "    scores = []\n",
    "    total = 0\n",
    "    for i, test_row in holdout_df.iterrows():\n",
    "        score = row_score(test_row,pop_rec,svd_rec)\n",
    "        if score is None:\n",
    "            continue\n",
    "        scores.append(score)\n",
    "        total+=1\n",
    "        if total % 1000 == 1:\n",
    "            sum_scores = np.sum(scores,axis=0)\n",
    "            print (total)\n",
    "            print(sum_scores)\n",
    "            print(sum_scores/total)\n",
    "    \n",
    "    sum_scores = np.sum(scores,axis=0)\n",
    "    print(\"--Final--\")\n",
    "    print(sum_scores)\n",
    "    print(total)\n",
    "    print(sum_scores/total)\n",
    "    \n",
    "\n",
    "print(row_score(user_tag_df_holdout.iloc[0],pop_recommender,svd_recommender))\n",
    "\n",
    "holdout_scores(user_tag_df_holdout,pop_recommender,svd_recommender)\n",
    "    "
   ]
  },
  {
   "cell_type": "code",
   "execution_count": 772,
   "metadata": {
    "ExecuteTime": {
     "end_time": "2018-03-09T21:03:24.553861Z",
     "start_time": "2018-03-09T21:03:24.454181Z"
    }
   },
   "outputs": [
    {
     "data": {
      "text/plain": [
       "<Container object of 4 artists>"
      ]
     },
     "execution_count": 772,
     "metadata": {},
     "output_type": "execute_result"
    },
    {
     "data": {
      "image/png": "[encoded data removed]",
      "text/plain": [
       "<matplotlib.figure.Figure at 0x7f6e62004358>"
      ]
     },
     "metadata": {},
     "output_type": "display_data"
    }
   ],
   "source": [
    "fig, ax = plt.subplots(figsize=(10,4))\n",
    "ax.xaxis.set_major_locator(ticker.MultipleLocator(1))\n",
    "ax.set_xticklabels([\"\",\"Popularity Top 5\",\"Popularity Top 10\",\"SVD Top 5\",\"SVD Top 10\"])\n",
    "ax.bar([1,2,3,4],[0.49567082,0.5704626,0.49946401,0.66925043])"
   ]
  },
  {
   "cell_type": "code",
   "execution_count": null,
   "metadata": {},
   "outputs": [],
   "source": []
  }
 ],
 "metadata": {
  "kernelspec": {
   "display_name": "Python 3",
   "language": "python",
   "name": "python3"
  },
  "language_info": {
   "codemirror_mode": {
    "name": "ipython",
    "version": 3
   },
   "file_extension": ".py",
   "mimetype": "text/x-python",
   "name": "python",
   "nbconvert_exporter": "python",
   "pygments_lexer": "ipython3",
   "version": "3.6.4"
  },
  "toc": {
   "nav_menu": {},
   "number_sections": false,
   "sideBar": true,
   "skip_h1_title": true,
   "title_cell": "Table of Contents",
   "title_sidebar": "Contents",
   "toc_cell": false,
   "toc_position": {},
   "toc_section_display": true,
   "toc_window_display": true
  },
  "varInspector": {
   "cols": {
    "lenName": 16,
    "lenType": 16,
    "lenVar": 40
   },
   "kernels_config": {
    "python": {
     "delete_cmd_postfix": "",
     "delete_cmd_prefix": "del ",
     "library": "var_list.py",
     "varRefreshCmd": "print(var_dic_list())"
    },
    "r": {
     "delete_cmd_postfix": ") ",
     "delete_cmd_prefix": "rm(",
     "library": "var_list.r",
     "varRefreshCmd": "cat(var_dic_list()) "
    }
   },
   "position": {
    "height": "486px",
    "left": "1155px",
    "right": "20px",
    "top": "107px",
    "width": "350px"
   },
   "types_to_exclude": [
    "module",
    "function",
    "builtin_function_or_method",
    "instance",
    "_Feature"
   ],
   "window_display": false
  }
 },
 "nbformat": 4,
 "nbformat_minor": 2
}
